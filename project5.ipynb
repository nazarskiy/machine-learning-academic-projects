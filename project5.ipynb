{
 "cells": [
  {
   "cell_type": "markdown",
   "metadata": {},
   "source": [
    "# Úkol č. 2 - Využití neuronových sítí\n",
    "\n",
    "  * Termíny jsou uvedeny na [courses.fit.cvut.cz/BI-ML2/homeworks/index.html](https://courses.fit.cvut.cz/BI-ML2/homeworks/index.html).\n",
    "  * Pokud odevzdáte úkol po prvním termínu ale před nejzazším termínem, budete penalizování -12 body, pozdější odevzdání je bez bodu.\n",
    "  * V rámci tohoto úkolu musíte sestrojit vhodný model neuronové sítě pro vícetřídou klasifikaci.\n",
    "  * Část bodů získáte za správné vypracování a část bodů získáte za výslednou přesnost Vašeho modelu na evaluačních datech.\n",
    "    \n",
    "> **Úkoly jsou zadány tak, aby Vám daly prostor pro invenci. Vymyslet _jak přesně_ budete úkol řešit, je důležitou součástí zadání a originalita či nápaditost bude také hodnocena!**\n",
    "\n",
    "Využívejte buňky typu `Markdown` k vysvětlování Vašeho postupu. Za nepřehlednost budou strhávány body.\n",
    "\n",
    "## Zdroj dat\n",
    "\n",
    " * Zdrojem dat jsou soubory `train.csv` a `evaluate.csv`.\n",
    " * Jedná se o obrázky 32x32 pixelů ve stupních šedi, které byly nějakým způsobem vyrobeny z [Fashion Mnist datasetu](https://www.kaggle.com/datasets/zalando-research/fashionmnist).\n",
    " * Soubor `train.csv` obsahuje trénovací data.\n",
    " * Cílová (vysvětlovaná) proměnná se jmenuje **label**.\n",
    " * Soubor `evaluate.csv` obsahuje testovací data bez hodnot skutečných labelů.\n",
    "\n",
    "## Pokyny k vypracování (max 18 bodů)\n",
    "\n",
    "**Body zadání**, za jejichž (poctivé) vypracování získáte **18 bodů**:\n",
    "  * V notebooku načtěte data ze souboru `train.csv`. Vhodným způsobem si je rozdělte na podmnožiny, které Vám poslouží pro trénování, porovnávání modelů a následnou predikci výkonnosti finálního modelu.\n",
    "  * Proveďte základní průzkum dat a svá pozorování diskutujte. Některé obrázky také zobrazte.\n",
    "  * Sestrojte a natrénujte několik variant modelu dopředné neuronové sítě. Přitom v rámci výpočetních možností:\n",
    "      * Okomentujte vhodnost daného modelu pro daný typ úlohy.\n",
    "      * Experimentujte s různými hloubkami a velikosmi vrstev.\n",
    "      * Experimentujte se standardizací/normalizací dat.\n",
    "      * Experimentujte s různými optimalizačními metodami.\n",
    "      * Experimentujte s různými regularizačními technikami.\n",
    "      * Získané výsledky vždy řádně okomentujte.\n",
    "<br/><br/>\n",
    "  * Sestrojte model konvoluční neuronové sítě. Přitom v rámci výpočetních možností:\n",
    "      * Okomentujte vhodnost daného modelu pro daný typ úlohy.\n",
    "      * Experimentujte s různými hloubkami a velikosmi vrstev.\n",
    "      * Experimentujte se standardizací/normalizací dat.\n",
    "      * Experimentujte s různými optimalizačními metodami.\n",
    "      * Experimentujte s různými regularizačními technikami.\n",
    "      * Získané výsledky vždy řádně okomentujte.\n",
    "    <br/><br/>\n",
    "  * Ze všech zkoušených možností vyberte finální model a odhadněte, jakou přesnost můžete očekávat na nových datech, která jste doposud neměli k dispozici.\n",
    "  \n",
    "  * Nakonec načtěte vyhodnocovací data ze souboru`evaluate.csv`. Pomocí finálního modelu napočítejte predikce pro tyto data (vysvětlovaná proměnná v nich již není). Vytvořte soubor `results.csv`, ve kterém získané predikce uložíte do sloupce **label** a identifikátory do sloupce **ID**. Tento soubor též odevzdejte (uložte do projektu vedle notebooku).\n",
    "   \n",
    "   * Ukázka prvních řádků souboru `results.csv`:\n",
    "  \n",
    "```\n",
    "ID,label\n",
    "0,0\n",
    "1,1\n",
    "...\n",
    "```\n",
    "\n",
    "## Vyhodnocovací část (max 7 bodů)\n",
    "Za přesnost (accuraccy) na odevzdaných predikcích pro vyhodnocovací množnu získáte dalších max **7 bodů**.\n",
    "\n",
    "Označíme-li $A$ přesnost, které jste dosáhli, zaokrouhlenou na 2 desetinná místa, akumulují se výsledné body podle následujících pravidel:\n",
    "* pokud $A \\geq 0.80$ obdržíte +1 bod\n",
    "* pokud $A \\geq 0.83$ obdržíte +1 bod\n",
    "* pokud $A \\geq 0.86$ obdržíte +1 bod\n",
    "* pokud $A \\geq 0.87$ obdržíte +1 bod\n",
    "* pokud $A \\geq 0.88$ obdržíte +1 bod\n",
    "* pokud $A \\geq 0.89$ obdržíte +1 bod\n",
    "* pokud $A \\geq 0.90$ obdržíte +1 bod\n",
    "\n",
    "**Příklad:** Pokud bude Vaše přesnost 0.856, vyjde A = 0.86 a vy získáte 3 body.\n",
    "\n",
    "\n",
    "## Poznámky k odevzdání\n",
    "\n",
    "  * Řiďte se pokyny ze stránky https://courses.fit.cvut.cz/BI-ML2/homeworks/index.html.\n",
    "  * Vytvořte i csv soubor `results.csv` s predikcemi a uložte ho v rámci projektu vedle ipython notebooku."
   ]
  },
  {
   "cell_type": "markdown",
   "metadata": {},
   "source": [
    "---"
   ]
  },
  {
   "cell_type": "code",
   "execution_count": 583,
   "metadata": {},
   "outputs": [],
   "source": [
    "import numpy as np \n",
    "import pandas as pd\n",
    "import copy\n",
    "import time\n",
    "\n",
    "import torch\n",
    "from torch.utils.data import DataLoader, Dataset\n",
    "import torch.nn as nn\n",
    "import torch.nn.functional as F\n",
    "import torchvision\n",
    "\n",
    "from sklearn.metrics import accuracy_score\n",
    "from sklearn.metrics import confusion_matrix, ConfusionMatrixDisplay\n",
    "\n",
    "from itertools import product\n",
    "\n",
    "from tqdm import tqdm\n",
    "\n",
    "import seaborn as sns\n",
    "import matplotlib.pyplot as plt\n",
    "%matplotlib inline"
   ]
  },
  {
   "cell_type": "markdown",
   "metadata": {},
   "source": [
    "---"
   ]
  },
  {
   "cell_type": "markdown",
   "metadata": {},
   "source": [
    "# Data observation"
   ]
  },
  {
   "cell_type": "code",
   "execution_count": 252,
   "metadata": {},
   "outputs": [],
   "source": [
    "df = pd.read_csv(\"train.csv\")"
   ]
  },
  {
   "cell_type": "code",
   "execution_count": 253,
   "metadata": {},
   "outputs": [
    {
     "data": {
      "text/html": [
       "<div>\n",
       "<style scoped>\n",
       "    .dataframe tbody tr th:only-of-type {\n",
       "        vertical-align: middle;\n",
       "    }\n",
       "\n",
       "    .dataframe tbody tr th {\n",
       "        vertical-align: top;\n",
       "    }\n",
       "\n",
       "    .dataframe thead th {\n",
       "        text-align: right;\n",
       "    }\n",
       "</style>\n",
       "<table border=\"1\" class=\"dataframe\">\n",
       "  <thead>\n",
       "    <tr style=\"text-align: right;\">\n",
       "      <th></th>\n",
       "      <th>pix1</th>\n",
       "      <th>pix2</th>\n",
       "      <th>pix3</th>\n",
       "      <th>pix4</th>\n",
       "      <th>pix5</th>\n",
       "      <th>pix6</th>\n",
       "      <th>pix7</th>\n",
       "      <th>pix8</th>\n",
       "      <th>pix9</th>\n",
       "      <th>pix10</th>\n",
       "      <th>...</th>\n",
       "      <th>pix1016</th>\n",
       "      <th>pix1017</th>\n",
       "      <th>pix1018</th>\n",
       "      <th>pix1019</th>\n",
       "      <th>pix1020</th>\n",
       "      <th>pix1021</th>\n",
       "      <th>pix1022</th>\n",
       "      <th>pix1023</th>\n",
       "      <th>pix1024</th>\n",
       "      <th>label</th>\n",
       "    </tr>\n",
       "  </thead>\n",
       "  <tbody>\n",
       "    <tr>\n",
       "      <th>0</th>\n",
       "      <td>0</td>\n",
       "      <td>0</td>\n",
       "      <td>0</td>\n",
       "      <td>0</td>\n",
       "      <td>0</td>\n",
       "      <td>0</td>\n",
       "      <td>0</td>\n",
       "      <td>0</td>\n",
       "      <td>0</td>\n",
       "      <td>0</td>\n",
       "      <td>...</td>\n",
       "      <td>0</td>\n",
       "      <td>0</td>\n",
       "      <td>0</td>\n",
       "      <td>0</td>\n",
       "      <td>0</td>\n",
       "      <td>0</td>\n",
       "      <td>0</td>\n",
       "      <td>0</td>\n",
       "      <td>0</td>\n",
       "      <td>7</td>\n",
       "    </tr>\n",
       "    <tr>\n",
       "      <th>1</th>\n",
       "      <td>3</td>\n",
       "      <td>3</td>\n",
       "      <td>3</td>\n",
       "      <td>3</td>\n",
       "      <td>3</td>\n",
       "      <td>3</td>\n",
       "      <td>3</td>\n",
       "      <td>3</td>\n",
       "      <td>3</td>\n",
       "      <td>3</td>\n",
       "      <td>...</td>\n",
       "      <td>3</td>\n",
       "      <td>3</td>\n",
       "      <td>3</td>\n",
       "      <td>3</td>\n",
       "      <td>3</td>\n",
       "      <td>3</td>\n",
       "      <td>3</td>\n",
       "      <td>3</td>\n",
       "      <td>3</td>\n",
       "      <td>0</td>\n",
       "    </tr>\n",
       "    <tr>\n",
       "      <th>2</th>\n",
       "      <td>2</td>\n",
       "      <td>2</td>\n",
       "      <td>2</td>\n",
       "      <td>2</td>\n",
       "      <td>2</td>\n",
       "      <td>2</td>\n",
       "      <td>2</td>\n",
       "      <td>2</td>\n",
       "      <td>2</td>\n",
       "      <td>2</td>\n",
       "      <td>...</td>\n",
       "      <td>2</td>\n",
       "      <td>2</td>\n",
       "      <td>2</td>\n",
       "      <td>2</td>\n",
       "      <td>2</td>\n",
       "      <td>2</td>\n",
       "      <td>2</td>\n",
       "      <td>2</td>\n",
       "      <td>2</td>\n",
       "      <td>6</td>\n",
       "    </tr>\n",
       "    <tr>\n",
       "      <th>3</th>\n",
       "      <td>0</td>\n",
       "      <td>0</td>\n",
       "      <td>0</td>\n",
       "      <td>0</td>\n",
       "      <td>0</td>\n",
       "      <td>0</td>\n",
       "      <td>0</td>\n",
       "      <td>0</td>\n",
       "      <td>0</td>\n",
       "      <td>0</td>\n",
       "      <td>...</td>\n",
       "      <td>0</td>\n",
       "      <td>0</td>\n",
       "      <td>0</td>\n",
       "      <td>0</td>\n",
       "      <td>0</td>\n",
       "      <td>0</td>\n",
       "      <td>0</td>\n",
       "      <td>0</td>\n",
       "      <td>0</td>\n",
       "      <td>3</td>\n",
       "    </tr>\n",
       "    <tr>\n",
       "      <th>4</th>\n",
       "      <td>3</td>\n",
       "      <td>3</td>\n",
       "      <td>3</td>\n",
       "      <td>3</td>\n",
       "      <td>3</td>\n",
       "      <td>3</td>\n",
       "      <td>3</td>\n",
       "      <td>3</td>\n",
       "      <td>3</td>\n",
       "      <td>3</td>\n",
       "      <td>...</td>\n",
       "      <td>3</td>\n",
       "      <td>3</td>\n",
       "      <td>3</td>\n",
       "      <td>3</td>\n",
       "      <td>3</td>\n",
       "      <td>3</td>\n",
       "      <td>3</td>\n",
       "      <td>3</td>\n",
       "      <td>3</td>\n",
       "      <td>3</td>\n",
       "    </tr>\n",
       "  </tbody>\n",
       "</table>\n",
       "<p>5 rows × 1025 columns</p>\n",
       "</div>"
      ],
      "text/plain": [
       "   pix1  pix2  pix3  pix4  pix5  pix6  pix7  pix8  pix9  pix10  ...  pix1016  \\\n",
       "0     0     0     0     0     0     0     0     0     0      0  ...        0   \n",
       "1     3     3     3     3     3     3     3     3     3      3  ...        3   \n",
       "2     2     2     2     2     2     2     2     2     2      2  ...        2   \n",
       "3     0     0     0     0     0     0     0     0     0      0  ...        0   \n",
       "4     3     3     3     3     3     3     3     3     3      3  ...        3   \n",
       "\n",
       "   pix1017  pix1018  pix1019  pix1020  pix1021  pix1022  pix1023  pix1024  \\\n",
       "0        0        0        0        0        0        0        0        0   \n",
       "1        3        3        3        3        3        3        3        3   \n",
       "2        2        2        2        2        2        2        2        2   \n",
       "3        0        0        0        0        0        0        0        0   \n",
       "4        3        3        3        3        3        3        3        3   \n",
       "\n",
       "   label  \n",
       "0      7  \n",
       "1      0  \n",
       "2      6  \n",
       "3      3  \n",
       "4      3  \n",
       "\n",
       "[5 rows x 1025 columns]"
      ]
     },
     "execution_count": 253,
     "metadata": {},
     "output_type": "execute_result"
    }
   ],
   "source": [
    "df.head()"
   ]
  },
  {
   "cell_type": "code",
   "execution_count": 254,
   "metadata": {},
   "outputs": [
    {
     "data": {
      "text/plain": [
       "(52500, 1025)"
      ]
     },
     "execution_count": 254,
     "metadata": {},
     "output_type": "execute_result"
    }
   ],
   "source": [
    "df.shape"
   ]
  },
  {
   "cell_type": "markdown",
   "metadata": {},
   "source": [
    "Describing the data set to get the basic info, pixels seem to be in the boundaries (0, 255) and have no missing values"
   ]
  },
  {
   "cell_type": "code",
   "execution_count": 57,
   "metadata": {},
   "outputs": [
    {
     "data": {
      "text/html": [
       "<div>\n",
       "<style scoped>\n",
       "    .dataframe tbody tr th:only-of-type {\n",
       "        vertical-align: middle;\n",
       "    }\n",
       "\n",
       "    .dataframe tbody tr th {\n",
       "        vertical-align: top;\n",
       "    }\n",
       "\n",
       "    .dataframe thead th {\n",
       "        text-align: right;\n",
       "    }\n",
       "</style>\n",
       "<table border=\"1\" class=\"dataframe\">\n",
       "  <thead>\n",
       "    <tr style=\"text-align: right;\">\n",
       "      <th></th>\n",
       "      <th>pix1</th>\n",
       "      <th>pix2</th>\n",
       "      <th>pix3</th>\n",
       "      <th>pix4</th>\n",
       "      <th>pix5</th>\n",
       "      <th>pix6</th>\n",
       "      <th>pix7</th>\n",
       "      <th>pix8</th>\n",
       "      <th>pix9</th>\n",
       "      <th>pix10</th>\n",
       "      <th>...</th>\n",
       "      <th>pix1016</th>\n",
       "      <th>pix1017</th>\n",
       "      <th>pix1018</th>\n",
       "      <th>pix1019</th>\n",
       "      <th>pix1020</th>\n",
       "      <th>pix1021</th>\n",
       "      <th>pix1022</th>\n",
       "      <th>pix1023</th>\n",
       "      <th>pix1024</th>\n",
       "      <th>label</th>\n",
       "    </tr>\n",
       "  </thead>\n",
       "  <tbody>\n",
       "    <tr>\n",
       "      <th>count</th>\n",
       "      <td>52500.000000</td>\n",
       "      <td>52500.000000</td>\n",
       "      <td>52500.000000</td>\n",
       "      <td>52500.000000</td>\n",
       "      <td>52500.000000</td>\n",
       "      <td>52500.000000</td>\n",
       "      <td>52500.000000</td>\n",
       "      <td>52500.000000</td>\n",
       "      <td>52500.000000</td>\n",
       "      <td>52500.000000</td>\n",
       "      <td>...</td>\n",
       "      <td>52500.00000</td>\n",
       "      <td>52500.000000</td>\n",
       "      <td>52500.000000</td>\n",
       "      <td>52500.000000</td>\n",
       "      <td>52500.000000</td>\n",
       "      <td>52500.00000</td>\n",
       "      <td>52500.000000</td>\n",
       "      <td>52500.000000</td>\n",
       "      <td>52500.000000</td>\n",
       "      <td>52500.000000</td>\n",
       "    </tr>\n",
       "    <tr>\n",
       "      <th>mean</th>\n",
       "      <td>0.883333</td>\n",
       "      <td>0.883333</td>\n",
       "      <td>0.883333</td>\n",
       "      <td>0.883333</td>\n",
       "      <td>0.883333</td>\n",
       "      <td>0.883410</td>\n",
       "      <td>0.883467</td>\n",
       "      <td>0.883695</td>\n",
       "      <td>0.884686</td>\n",
       "      <td>0.887162</td>\n",
       "      <td>...</td>\n",
       "      <td>0.90499</td>\n",
       "      <td>0.906686</td>\n",
       "      <td>0.899943</td>\n",
       "      <td>0.889219</td>\n",
       "      <td>0.884171</td>\n",
       "      <td>0.88341</td>\n",
       "      <td>0.883352</td>\n",
       "      <td>0.883333</td>\n",
       "      <td>0.883333</td>\n",
       "      <td>4.498476</td>\n",
       "    </tr>\n",
       "    <tr>\n",
       "      <th>std</th>\n",
       "      <td>1.506764</td>\n",
       "      <td>1.506764</td>\n",
       "      <td>1.506764</td>\n",
       "      <td>1.506764</td>\n",
       "      <td>1.506764</td>\n",
       "      <td>1.506871</td>\n",
       "      <td>1.506957</td>\n",
       "      <td>1.507379</td>\n",
       "      <td>1.512250</td>\n",
       "      <td>1.542576</td>\n",
       "      <td>...</td>\n",
       "      <td>1.94179</td>\n",
       "      <td>2.065057</td>\n",
       "      <td>1.859559</td>\n",
       "      <td>1.594743</td>\n",
       "      <td>1.510982</td>\n",
       "      <td>1.50701</td>\n",
       "      <td>1.506784</td>\n",
       "      <td>1.506764</td>\n",
       "      <td>1.506764</td>\n",
       "      <td>2.874794</td>\n",
       "    </tr>\n",
       "    <tr>\n",
       "      <th>min</th>\n",
       "      <td>0.000000</td>\n",
       "      <td>0.000000</td>\n",
       "      <td>0.000000</td>\n",
       "      <td>0.000000</td>\n",
       "      <td>0.000000</td>\n",
       "      <td>0.000000</td>\n",
       "      <td>0.000000</td>\n",
       "      <td>0.000000</td>\n",
       "      <td>0.000000</td>\n",
       "      <td>0.000000</td>\n",
       "      <td>...</td>\n",
       "      <td>0.00000</td>\n",
       "      <td>0.000000</td>\n",
       "      <td>0.000000</td>\n",
       "      <td>0.000000</td>\n",
       "      <td>0.000000</td>\n",
       "      <td>0.00000</td>\n",
       "      <td>0.000000</td>\n",
       "      <td>0.000000</td>\n",
       "      <td>0.000000</td>\n",
       "      <td>0.000000</td>\n",
       "    </tr>\n",
       "    <tr>\n",
       "      <th>25%</th>\n",
       "      <td>0.000000</td>\n",
       "      <td>0.000000</td>\n",
       "      <td>0.000000</td>\n",
       "      <td>0.000000</td>\n",
       "      <td>0.000000</td>\n",
       "      <td>0.000000</td>\n",
       "      <td>0.000000</td>\n",
       "      <td>0.000000</td>\n",
       "      <td>0.000000</td>\n",
       "      <td>0.000000</td>\n",
       "      <td>...</td>\n",
       "      <td>0.00000</td>\n",
       "      <td>0.000000</td>\n",
       "      <td>0.000000</td>\n",
       "      <td>0.000000</td>\n",
       "      <td>0.000000</td>\n",
       "      <td>0.00000</td>\n",
       "      <td>0.000000</td>\n",
       "      <td>0.000000</td>\n",
       "      <td>0.000000</td>\n",
       "      <td>2.000000</td>\n",
       "    </tr>\n",
       "    <tr>\n",
       "      <th>50%</th>\n",
       "      <td>0.000000</td>\n",
       "      <td>0.000000</td>\n",
       "      <td>0.000000</td>\n",
       "      <td>0.000000</td>\n",
       "      <td>0.000000</td>\n",
       "      <td>0.000000</td>\n",
       "      <td>0.000000</td>\n",
       "      <td>0.000000</td>\n",
       "      <td>0.000000</td>\n",
       "      <td>0.000000</td>\n",
       "      <td>...</td>\n",
       "      <td>0.00000</td>\n",
       "      <td>0.000000</td>\n",
       "      <td>0.000000</td>\n",
       "      <td>0.000000</td>\n",
       "      <td>0.000000</td>\n",
       "      <td>0.00000</td>\n",
       "      <td>0.000000</td>\n",
       "      <td>0.000000</td>\n",
       "      <td>0.000000</td>\n",
       "      <td>4.000000</td>\n",
       "    </tr>\n",
       "    <tr>\n",
       "      <th>75%</th>\n",
       "      <td>1.000000</td>\n",
       "      <td>1.000000</td>\n",
       "      <td>1.000000</td>\n",
       "      <td>1.000000</td>\n",
       "      <td>1.000000</td>\n",
       "      <td>1.000000</td>\n",
       "      <td>1.000000</td>\n",
       "      <td>1.000000</td>\n",
       "      <td>1.000000</td>\n",
       "      <td>1.000000</td>\n",
       "      <td>...</td>\n",
       "      <td>1.00000</td>\n",
       "      <td>1.000000</td>\n",
       "      <td>1.000000</td>\n",
       "      <td>1.000000</td>\n",
       "      <td>1.000000</td>\n",
       "      <td>1.00000</td>\n",
       "      <td>1.000000</td>\n",
       "      <td>1.000000</td>\n",
       "      <td>1.000000</td>\n",
       "      <td>7.000000</td>\n",
       "    </tr>\n",
       "    <tr>\n",
       "      <th>max</th>\n",
       "      <td>11.000000</td>\n",
       "      <td>11.000000</td>\n",
       "      <td>11.000000</td>\n",
       "      <td>11.000000</td>\n",
       "      <td>11.000000</td>\n",
       "      <td>11.000000</td>\n",
       "      <td>11.000000</td>\n",
       "      <td>11.000000</td>\n",
       "      <td>27.000000</td>\n",
       "      <td>66.000000</td>\n",
       "      <td>...</td>\n",
       "      <td>207.00000</td>\n",
       "      <td>206.000000</td>\n",
       "      <td>122.000000</td>\n",
       "      <td>93.000000</td>\n",
       "      <td>24.000000</td>\n",
       "      <td>11.00000</td>\n",
       "      <td>11.000000</td>\n",
       "      <td>11.000000</td>\n",
       "      <td>11.000000</td>\n",
       "      <td>9.000000</td>\n",
       "    </tr>\n",
       "  </tbody>\n",
       "</table>\n",
       "<p>8 rows × 1025 columns</p>\n",
       "</div>"
      ],
      "text/plain": [
       "               pix1          pix2          pix3          pix4          pix5  \\\n",
       "count  52500.000000  52500.000000  52500.000000  52500.000000  52500.000000   \n",
       "mean       0.883333      0.883333      0.883333      0.883333      0.883333   \n",
       "std        1.506764      1.506764      1.506764      1.506764      1.506764   \n",
       "min        0.000000      0.000000      0.000000      0.000000      0.000000   \n",
       "25%        0.000000      0.000000      0.000000      0.000000      0.000000   \n",
       "50%        0.000000      0.000000      0.000000      0.000000      0.000000   \n",
       "75%        1.000000      1.000000      1.000000      1.000000      1.000000   \n",
       "max       11.000000     11.000000     11.000000     11.000000     11.000000   \n",
       "\n",
       "               pix6          pix7          pix8          pix9         pix10  \\\n",
       "count  52500.000000  52500.000000  52500.000000  52500.000000  52500.000000   \n",
       "mean       0.883410      0.883467      0.883695      0.884686      0.887162   \n",
       "std        1.506871      1.506957      1.507379      1.512250      1.542576   \n",
       "min        0.000000      0.000000      0.000000      0.000000      0.000000   \n",
       "25%        0.000000      0.000000      0.000000      0.000000      0.000000   \n",
       "50%        0.000000      0.000000      0.000000      0.000000      0.000000   \n",
       "75%        1.000000      1.000000      1.000000      1.000000      1.000000   \n",
       "max       11.000000     11.000000     11.000000     27.000000     66.000000   \n",
       "\n",
       "       ...      pix1016       pix1017       pix1018       pix1019  \\\n",
       "count  ...  52500.00000  52500.000000  52500.000000  52500.000000   \n",
       "mean   ...      0.90499      0.906686      0.899943      0.889219   \n",
       "std    ...      1.94179      2.065057      1.859559      1.594743   \n",
       "min    ...      0.00000      0.000000      0.000000      0.000000   \n",
       "25%    ...      0.00000      0.000000      0.000000      0.000000   \n",
       "50%    ...      0.00000      0.000000      0.000000      0.000000   \n",
       "75%    ...      1.00000      1.000000      1.000000      1.000000   \n",
       "max    ...    207.00000    206.000000    122.000000     93.000000   \n",
       "\n",
       "            pix1020      pix1021       pix1022       pix1023       pix1024  \\\n",
       "count  52500.000000  52500.00000  52500.000000  52500.000000  52500.000000   \n",
       "mean       0.884171      0.88341      0.883352      0.883333      0.883333   \n",
       "std        1.510982      1.50701      1.506784      1.506764      1.506764   \n",
       "min        0.000000      0.00000      0.000000      0.000000      0.000000   \n",
       "25%        0.000000      0.00000      0.000000      0.000000      0.000000   \n",
       "50%        0.000000      0.00000      0.000000      0.000000      0.000000   \n",
       "75%        1.000000      1.00000      1.000000      1.000000      1.000000   \n",
       "max       24.000000     11.00000     11.000000     11.000000     11.000000   \n",
       "\n",
       "              label  \n",
       "count  52500.000000  \n",
       "mean       4.498476  \n",
       "std        2.874794  \n",
       "min        0.000000  \n",
       "25%        2.000000  \n",
       "50%        4.000000  \n",
       "75%        7.000000  \n",
       "max        9.000000  \n",
       "\n",
       "[8 rows x 1025 columns]"
      ]
     },
     "execution_count": 57,
     "metadata": {},
     "output_type": "execute_result"
    }
   ],
   "source": [
    "df.describe()"
   ]
  },
  {
   "cell_type": "code",
   "execution_count": 451,
   "metadata": {},
   "outputs": [
    {
     "name": "stdout",
     "output_type": "stream",
     "text": [
      "255\n",
      "0\n"
     ]
    }
   ],
   "source": [
    "print(np.max(df))\n",
    "print(np.min(df))"
   ]
  },
  {
   "cell_type": "markdown",
   "metadata": {},
   "source": [
    "Checking for any missing values in the data set, there are none"
   ]
  },
  {
   "cell_type": "code",
   "execution_count": 60,
   "metadata": {},
   "outputs": [
    {
     "data": {
      "text/plain": [
       "np.int64(0)"
      ]
     },
     "execution_count": 60,
     "metadata": {},
     "output_type": "execute_result"
    }
   ],
   "source": [
    "df.isna().sum().sum()"
   ]
  },
  {
   "cell_type": "markdown",
   "metadata": {},
   "source": [
    "Function, that for a certain array of images will show them with the label of class it belongs to"
   ]
  },
  {
   "cell_type": "code",
   "execution_count": 61,
   "metadata": {},
   "outputs": [],
   "source": [
    "def plot_imgs(images: np.ndarray, titles: np.ndarray, rows: int, cols: int):\n",
    "    fig, axes = plt.subplots(rows, cols, figsize=(16, 8))\n",
    "    axes = axes.flatten()\n",
    "\n",
    "    for i, ax in enumerate(axes):\n",
    "        img = np.reshape(images[i], (32, 32))\n",
    "        ax.set_title(titles[i])\n",
    "        ax.imshow(img, cmap=\"gray\")\n",
    "        ax.axis(\"off\")\n",
    "        \n",
    "    plt.tight_layout()\n",
    "    plt.show()"
   ]
  },
  {
   "cell_type": "markdown",
   "metadata": {},
   "source": [
    "Showing 15 first images from the dataset"
   ]
  },
  {
   "cell_type": "code",
   "execution_count": 62,
   "metadata": {},
   "outputs": [
    {
     "data": {
      "image/png": "[encoded data removed]",
      "text/plain": [
       "<Figure size 1600x800 with 15 Axes>"
      ]
     },
     "metadata": {},
     "output_type": "display_data"
    }
   ],
   "source": [
    "plot_imgs(np.array(df.iloc[:15, :1024]), np.array(df[\"label\"]), 3, 5)"
   ]
  },
  {
   "cell_type": "markdown",
   "metadata": {},
   "source": [
    "Creating custom Dataloader for the feedforward neural network"
   ]
  },
  {
   "cell_type": "code",
   "execution_count": 357,
   "metadata": {},
   "outputs": [],
   "source": [
    "class TabularDataset(Dataset):\n",
    "    def __init__(self, df, transform = None):\n",
    "        self.X = torch.tensor(df.drop(columns=[\"label\"]).values, dtype=torch.float32)\n",
    "        self.y = torch.tensor(df[\"label\"].values, dtype=torch.long)\n",
    "        self.transform = transform\n",
    "    def __len__(self):\n",
    "        return len(self.X)\n",
    "\n",
    "    def __getitem__(self, idx):\n",
    "        x = self.X[idx]\n",
    "        if self.transform:\n",
    "            x = self.transform(x)\n",
    "        return x, self.y[idx]"
   ]
  },
  {
   "cell_type": "markdown",
   "metadata": {},
   "source": [
    "Class that gives back normalized data"
   ]
  },
  {
   "cell_type": "code",
   "execution_count": 358,
   "metadata": {},
   "outputs": [],
   "source": [
    "class Normalize:\n",
    "    def __init__(self, min_val, max_val):\n",
    "        self.min = torch.tensor(min_val, dtype=torch.float32)\n",
    "        self.max = torch.tensor(max_val, dtype=torch.float32)\n",
    "\n",
    "    def __call__(self, x):\n",
    "        return (x - self.min) / (self.max - self.min + 1e-8)"
   ]
  },
  {
   "cell_type": "markdown",
   "metadata": {},
   "source": [
    "Class that gives back standartized data"
   ]
  },
  {
   "cell_type": "code",
   "execution_count": 359,
   "metadata": {},
   "outputs": [],
   "source": [
    "class Standartize:\n",
    "    def __init__(self, mean, std):\n",
    "        self.mean = torch.tensor(mean, dtype=torch.float32)\n",
    "        self.std = torch.tensor(std, dtype=torch.float32)\n",
    "\n",
    "    def __call__(self, x):\n",
    "        return (x - self.mean) / (self.std + 1e-8)"
   ]
  },
  {
   "cell_type": "markdown",
   "metadata": {},
   "source": [
    "Splitting the data into the 60% train, 20% evaluation and 20% test"
   ]
  },
  {
   "cell_type": "code",
   "execution_count": 360,
   "metadata": {},
   "outputs": [],
   "source": [
    "generator = torch.Generator().manual_seed(333)\n",
    "dataset = TabularDataset(df)\n",
    "train_data, val_data = torch.utils.data.random_split(dataset, [0.6, 0.4], generator)\n",
    "val_data, test_data = torch.utils.data.random_split(val_data, [0.5, 0.5], generator)"
   ]
  },
  {
   "cell_type": "code",
   "execution_count": 361,
   "metadata": {},
   "outputs": [
    {
     "name": "stdout",
     "output_type": "stream",
     "text": [
      "The size of the train data: 31500\n",
      "The size of the val data: 10500\n",
      "The size of the test data: 10500\n"
     ]
    }
   ],
   "source": [
    "print(f\"The size of the train data: {len(train_data)}\")\n",
    "print(f\"The size of the val data: {len(val_data)}\")\n",
    "print(f\"The size of the test data: {len(test_data)}\")"
   ]
  },
  {
   "cell_type": "markdown",
   "metadata": {},
   "source": [
    "---"
   ]
  },
  {
   "cell_type": "markdown",
   "metadata": {},
   "source": [
    "# Feedforward neural network"
   ]
  },
  {
   "cell_type": "markdown",
   "metadata": {},
   "source": [
    "Even though it is not the ideal choice (CNN should be better), FNNs can perform reasonably well with careful preprocessing, regularization, and tuning. They're also faster to train and easier to implement, making them a useful baseline"
   ]
  },
  {
   "cell_type": "markdown",
   "metadata": {},
   "source": [
    "**Creating a class, that represents the neural network**"
   ]
  },
  {
   "cell_type": "code",
   "execution_count": 370,
   "metadata": {},
   "outputs": [],
   "source": [
    "class Net(nn.Module):\n",
    "    def __init__(self, depth: int = 1, width: int = 16, activation = nn.ReLU()):\n",
    "        super().__init__()\n",
    "        self.activation = activation\n",
    "        self.hidden_layers = nn.ModuleList()\n",
    "        self.hidden_layers.append(nn.Linear(32*32, width))\n",
    "        \n",
    "        for _ in range(depth - 1):\n",
    "            self.hidden_layers.append(nn.Linear(width, width))\n",
    "        \n",
    "        self.fc_out = nn.Linear(width, 10)\n",
    "\n",
    "    def forward(self, x):\n",
    "        x = x.flatten(start_dim = 1)\n",
    "        for layer in self.hidden_layers:\n",
    "            x = self.activation(layer(x))\n",
    "        x = self.fc_out(x)\n",
    "        return x"
   ]
  },
  {
   "cell_type": "markdown",
   "metadata": {},
   "source": [
    "Defining the **loss funcion** I am going to use. Since the task involves classification to n classes, the obvios choice is CrossEntropyLoss"
   ]
  },
  {
   "cell_type": "code",
   "execution_count": 363,
   "metadata": {},
   "outputs": [],
   "source": [
    "loss_fn = torch.nn.CrossEntropyLoss()"
   ]
  },
  {
   "cell_type": "markdown",
   "metadata": {},
   "source": [
    "Defining the **parameters** I am going to use to tune the baseline model with no regularization"
   ]
  },
  {
   "cell_type": "code",
   "execution_count": 364,
   "metadata": {},
   "outputs": [],
   "source": [
    "params = {\n",
    "    \"activation\": [nn.ReLU(), nn.LeakyReLU(), nn.SELU()],\n",
    "    \"optimizer\": [torch.optim.SGD, torch.optim.RMSprop, torch.optim.Adam],\n",
    "    \"width\": [32, 64, 128],\n",
    "    \"depth\": range(1, 6)\n",
    "}"
   ]
  },
  {
   "cell_type": "markdown",
   "metadata": {},
   "source": [
    "Defining the **data tranformations** I am going to use to tune models"
   ]
  },
  {
   "cell_type": "code",
   "execution_count": 365,
   "metadata": {},
   "outputs": [],
   "source": [
    "df_train = df.iloc[train_data.indices]\n",
    "df_val = df.iloc[val_data.indices]\n",
    "df_test = df.iloc[test_data.indices]\n",
    "X_train = df_train.drop(columns=[\"label\"])\n",
    "\n",
    "mean = X_train.mean(axis=0).values\n",
    "std = X_train.std(axis=0).values\n",
    "min_val = X_train.min(axis=0).values\n",
    "max_val = X_train.max(axis=0).values\n",
    "\n",
    "standardize_transform = Standartize(mean, std)\n",
    "normalize_transform = Normalize(min_val, max_val)\n",
    "\n",
    "transforms = {\n",
    "    \"standardize\": standardize_transform,\n",
    "    \"normalize\": normalize_transform,\n",
    "    \"none\": None\n",
    "}"
   ]
  },
  {
   "cell_type": "markdown",
   "metadata": {},
   "source": [
    "First, I wanted to train models with optimizers parameters tuning, but since the training would last unreasonably long, I decided to stick with only learning rate parameter"
   ]
  },
  {
   "cell_type": "code",
   "execution_count": 366,
   "metadata": {},
   "outputs": [],
   "source": [
    "# def optimizer_params(optimizer_name: str) -> dict:\n",
    "#     lr = [0.1, 0.01, 0.001, 0.0001]\n",
    "#     momentum = [0.5, 0.6, 0.7, 0.8, 0.9]\n",
    "#     lr_decay = [0, 1, 2, 3]\n",
    "#     alpha = [0.9, 0.93, 0.95, 0.97, 0.99]\n",
    "#     betas = [(0.9, 0.999), (0.8, 0.888), (0.95, 0.9995)]\n",
    "\n",
    "#     if optimizer_name == \"SGD\":\n",
    "#         return {\"lr\": lr, \"momentum\": momentum}\n",
    "#     elif optimizer_name == \"ADAGrad\":\n",
    "#         return {\"lr\": lr, \"lr_decay\": lr_decay}\n",
    "#     elif optimizer_name == \"RMSProp\":\n",
    "#         return {\"lr\": lr, \"alpha\": alpha, \"momentum\": momentum}\n",
    "#     return {\"lr\": lr, \"betas\": betas}"
   ]
  },
  {
   "cell_type": "markdown",
   "metadata": {},
   "source": [
    "Funciton, that represents one epoch running being executed in training"
   ]
  },
  {
   "cell_type": "code",
   "execution_count": 367,
   "metadata": {},
   "outputs": [],
   "source": [
    "def one_epoch(model: nn.Module, criterion: nn.Module, optimizer: torch.optim.Optimizer, training_loader: torch.utils.data.DataLoader) -> tuple[float, float]:\n",
    "    model.train()\n",
    "    correct = 0\n",
    "    total = 0\n",
    "    running_cum_loss = 0.\n",
    "\n",
    "    for X_batch, y_batch in training_loader:\n",
    "        X_batch, y_batch = X_batch.to(), y_batch.to()\n",
    "\n",
    "        optimizer.zero_grad()\n",
    "        outputs = model(X_batch)\n",
    "        loss = criterion(outputs, y_batch)\n",
    "        loss.backward()\n",
    "        optimizer.step()\n",
    "\n",
    "        batch_size = X_batch.size(0)\n",
    "        running_cum_loss += loss.item() * batch_size\n",
    "        \n",
    "        _, predicted = outputs.max(1)\n",
    "        correct += (predicted == y_batch).sum().item()\n",
    "        total += batch_size\n",
    "\n",
    "    avg_loss = running_cum_loss / total\n",
    "    acc = correct / total\n",
    "        \n",
    "    return acc, avg_loss"
   ]
  },
  {
   "cell_type": "markdown",
   "metadata": {},
   "source": [
    "Function, that represents one evaluation epoch"
   ]
  },
  {
   "cell_type": "code",
   "execution_count": 368,
   "metadata": {},
   "outputs": [],
   "source": [
    "def eval_one_epoch(model: nn.Module, criterion: nn.Module, validation_loader: torch.utils.data.DataLoader) -> tuple[float, float]:\n",
    "    model.eval()\n",
    "    vcorrect = 0\n",
    "    total = 0\n",
    "    running_cum_vloss = 0.\n",
    "\n",
    "    with torch.no_grad():\n",
    "        for X_batch, y_batch in validation_loader:\n",
    "            X_batch, y_batch = X_batch.to(), y_batch.to()\n",
    "    \n",
    "            outputs = model(X_batch)\n",
    "            loss = criterion(outputs, y_batch)\n",
    "            \n",
    "            batch_size = y_batch.size(0)\n",
    "            running_cum_vloss += loss.item() * batch_size\n",
    "            \n",
    "            _, predicted = outputs.max(1)\n",
    "            vcorrect += (predicted == y_batch).sum().item()\n",
    "            total += batch_size\n",
    "    \n",
    "    avg_vloss = running_cum_vloss / total\n",
    "    vacc = vcorrect / total\n",
    "\n",
    "    return vacc, avg_vloss "
   ]
  },
  {
   "cell_type": "markdown",
   "metadata": {},
   "source": [
    "Simple baseline model to check that everything works:"
   ]
  },
  {
   "cell_type": "code",
   "execution_count": 372,
   "metadata": {},
   "outputs": [
    {
     "name": "stdout",
     "output_type": "stream",
     "text": [
      "Epoch 1/10: train accuracy = 25.61%, val accuracy = 29.18%, train loss: 1.93, val loss: 1.71\n",
      "Epoch 2/10: train accuracy = 39.22%, val accuracy = 51.20%, train loss: 1.52, val loss: 1.35\n",
      "Epoch 3/10: train accuracy = 55.83%, val accuracy = 58.90%, train loss: 1.15, val loss: 1.08\n",
      "Epoch 4/10: train accuracy = 60.68%, val accuracy = 61.46%, train loss: 1.03, val loss: 0.99\n",
      "Epoch 5/10: train accuracy = 63.57%, val accuracy = 60.84%, train loss: 0.97, val loss: 1.00\n",
      "Epoch 6/10: train accuracy = 64.53%, val accuracy = 64.90%, train loss: 0.94, val loss: 0.92\n",
      "Epoch 7/10: train accuracy = 65.83%, val accuracy = 65.30%, train loss: 0.88, val loss: 0.91\n",
      "Epoch 8/10: train accuracy = 66.22%, val accuracy = 62.50%, train loss: 0.88, val loss: 0.97\n",
      "Epoch 9/10: train accuracy = 66.23%, val accuracy = 65.23%, train loss: 0.87, val loss: 0.88\n",
      "Epoch 10/10: train accuracy = 67.11%, val accuracy = 65.52%, train loss: 0.85, val loss: 0.90\n"
     ]
    }
   ],
   "source": [
    "training_loader = torch.utils.data.DataLoader(train_data, batch_size=32, shuffle=True)\n",
    "validation_loader = torch.utils.data.DataLoader(val_data, batch_size=128, shuffle=False)\n",
    "num_epochs = 10\n",
    "model = Net()\n",
    "optimizer = torch.optim.Adam(model.parameters(), lr=0.001)\n",
    "\n",
    "for epoch in range(num_epochs):\n",
    "    train_acc, train_loss = one_epoch(model, loss_fn, optimizer, training_loader)\n",
    "    val_acc, val_loss = eval_one_epoch(model, loss_fn, validation_loader)\n",
    "\n",
    "    print(f\"Epoch {epoch + 1}/{num_epochs}: train accuracy = {train_acc * 100:.2f}%, val accuracy = {val_acc * 100:.2f}%, train loss: {train_loss:.2f}, val loss: {val_loss:.2f}\")"
   ]
  },
  {
   "cell_type": "markdown",
   "metadata": {},
   "source": [
    "---"
   ]
  },
  {
   "cell_type": "markdown",
   "metadata": {},
   "source": [
    "## FNN with no regularization"
   ]
  },
  {
   "cell_type": "markdown",
   "metadata": {},
   "source": [
    "Creating the combination of parameters for the model with no regularization"
   ]
  },
  {
   "cell_type": "code",
   "execution_count": 392,
   "metadata": {},
   "outputs": [],
   "source": [
    "all_combinations = list(product(\n",
    "    transforms.items(),\n",
    "    params[\"width\"],\n",
    "    params[\"depth\"],\n",
    "    params[\"activation\"],\n",
    "    params[\"optimizer\"],\n",
    "    [0.1, 0.01, 0.001, 0.0001]\n",
    "))"
   ]
  },
  {
   "cell_type": "markdown",
   "metadata": {},
   "source": [
    "Training model:"
   ]
  },
  {
   "cell_type": "code",
   "execution_count": 395,
   "metadata": {},
   "outputs": [
    {
     "name": "stderr",
     "output_type": "stream",
     "text": [
      "Total Progress: 100%|███████████████████████████████████████████████████████████████████████████████████████████████████████| 1620/1620 [3:56:17<00:00,  8.75s/it]\n"
     ]
    }
   ],
   "source": [
    "num_epochs = 10\n",
    "best_train_loss_net = 0.\n",
    "best_val_loss_net = 0.\n",
    "best_val_acc_net = 0.\n",
    "best_epoch_net = 0\n",
    "best_config_net = None\n",
    "\n",
    "\n",
    "for (trans_name, transform), w, d, act, opt, learning_rate in tqdm(all_combinations, desc=\"Total Progress\"):\n",
    "    train_dataset = TabularDataset(df_train, transform=transform)\n",
    "    val_dataset = TabularDataset(df_val, transform=transform)\n",
    "    \n",
    "    training_loader = torch.utils.data.DataLoader(train_dataset, batch_size=32, shuffle=True)\n",
    "    validation_loader = torch.utils.data.DataLoader(val_dataset, batch_size=128, shuffle=False)\n",
    "\n",
    "    model = Net(depth=d, width=w, activation=act)\n",
    "    optimizer = opt(model.parameters(), lr=learning_rate)\n",
    "\n",
    "    best_run_epoch = 0\n",
    "    best_run_train_loss = 0\n",
    "    best_run_val_loss = 0\n",
    "    best_run_val_acc = 0.\n",
    "    \n",
    "    for epoch in range(1, num_epochs + 1):\n",
    "        train_acc, train_loss = one_epoch(model, loss_fn, optimizer, training_loader)\n",
    "        val_acc, val_loss = eval_one_epoch(model, loss_fn, validation_loader)\n",
    "\n",
    "        if val_acc > best_run_val_acc:\n",
    "            best_run_epoch = epoch\n",
    "            best_run_train_loss = train_loss\n",
    "            best_run_val_loss = val_loss\n",
    "            best_run_val_acc = val_acc\n",
    "\n",
    "    # print(f\"[{trans_name}] Best val acc: {100*best_run_val_acc:.2f}%, val loss: {best_run_val_loss:.2f}, train loss: {best_run_train_loss:.2f}. At epoch {best_run_epoch}, \"\n",
    "    #       f\"for width={w}, depth={d}, act={act.__class__.__name__}, opt={opt.__name__}, lr={learning_rate}\")\n",
    "\n",
    "    if best_run_val_acc > best_val_acc_net:\n",
    "        best_epoch_net = best_run_epoch\n",
    "        best_train_loss_net = best_run_train_loss\n",
    "        best_val_loss_net = best_run_val_loss\n",
    "        best_val_acc_net = best_run_val_acc\n",
    "        best_config_net = {\n",
    "            \"width\": w,\n",
    "            \"depth\": d,\n",
    "            \"activation\": act.__class__.__name__,\n",
    "            \"preprocessing\": trans_name,\n",
    "            \"optimizer\": opt.__name__,\n",
    "            \"lr\": learning_rate\n",
    "        }\n"
   ]
  },
  {
   "cell_type": "code",
   "execution_count": 398,
   "metadata": {},
   "outputs": [
    {
     "name": "stdout",
     "output_type": "stream",
     "text": [
      "The best model with no regularization has val acc: 88.27%, train loss: 0.32, val loss: 0.33. At the epoch 10 with the params {'width': 128, 'depth': 5, 'activation': 'SELU', 'preprocessing': 'none', 'optimizer': 'RMSprop', 'lr': 0.0001}\n"
     ]
    }
   ],
   "source": [
    "print(f\"The best model with no regularization has val acc: {100*best_val_acc_net:.2f}%, train loss: {best_train_loss_net:.2f}, val loss: {best_val_loss_net:.2f}. At the epoch {best_epoch_net} with the params {best_config_net}\")"
   ]
  },
  {
   "cell_type": "markdown",
   "metadata": {},
   "source": [
    "---"
   ]
  },
  {
   "cell_type": "markdown",
   "metadata": {},
   "source": [
    "## FNN wiht early stopping regularization"
   ]
  },
  {
   "cell_type": "markdown",
   "metadata": {},
   "source": [
    "Because, as can be seen, the model with no regularization ran for too long on my machine, I decided to make a cut in hyperparamaters to tune"
   ]
  },
  {
   "cell_type": "code",
   "execution_count": 402,
   "metadata": {},
   "outputs": [],
   "source": [
    "params_net_es_reg = {\n",
    "    \"activation\": [nn.ReLU(), nn.LeakyReLU(), nn.SELU()],\n",
    "    \"optimizer\": [torch.optim.RMSprop, torch.optim.Adam],\n",
    "    \"width\": [32, 64, 128],\n",
    "    \"depth\": [1, 3, 5]\n",
    "}"
   ]
  },
  {
   "cell_type": "code",
   "execution_count": 403,
   "metadata": {},
   "outputs": [],
   "source": [
    "all_combinations_net_es_reg = list(product(\n",
    "    transforms.items(),\n",
    "    params_net_es_reg[\"width\"],\n",
    "    params_net_es_reg[\"depth\"],\n",
    "    params_net_es_reg[\"activation\"],\n",
    "    params_net_es_reg[\"optimizer\"],\n",
    "    [0.001, 0.0001]\n",
    "))"
   ]
  },
  {
   "cell_type": "markdown",
   "metadata": {},
   "source": [
    "Training model with early stopping regularization:"
   ]
  },
  {
   "cell_type": "code",
   "execution_count": 406,
   "metadata": {},
   "outputs": [
    {
     "name": "stderr",
     "output_type": "stream",
     "text": [
      "Total Progress: 100%|█████████████████████████████████████████████████████████████████████████████████████████████████████████| 324/324 [1:11:54<00:00, 13.32s/it]\n"
     ]
    }
   ],
   "source": [
    "max_epochs = 15\n",
    "k_epochs = 3\n",
    "\n",
    "best_train_loss_net_es_reg = 0.\n",
    "best_val_loss_net_es_reg = 0.\n",
    "best_val_acc_net_es_reg = 0.\n",
    "best_epoch_net_es_reg = 0\n",
    "best_config_net_es_reg = None\n",
    "\n",
    "for (trans_name, transform), w, d, act, opt, learning_rate in tqdm(all_combinations_net_es_reg, desc=\"Total Progress\"):\n",
    "    train_dataset = TabularDataset(df_train, transform=transform)\n",
    "    val_dataset = TabularDataset(df_val, transform=transform)\n",
    "\n",
    "    training_loader = torch.utils.data.DataLoader(train_dataset, batch_size=32, shuffle=True)\n",
    "    validation_loader = torch.utils.data.DataLoader(val_dataset, batch_size=128, shuffle=False)\n",
    "\n",
    "    model = Net(depth=d, width=w, activation=act)\n",
    "    optimizer = opt(model.parameters(), lr=learning_rate)\n",
    "\n",
    "    best_vloss = np.inf\n",
    "    epochs_from_best = 0\n",
    "\n",
    "    final_train_loss = 0.\n",
    "    final_val_loss = 0.\n",
    "    final_val_acc = 0.\n",
    "    final_epoch = 0\n",
    "    \n",
    "    for epoch in range(1, max_epochs + 1):\n",
    "        train_acc, train_loss = one_epoch(model, loss_fn, optimizer, training_loader)\n",
    "        val_acc, val_loss = eval_one_epoch(model, loss_fn, validation_loader)\n",
    "\n",
    "        final_train_loss = train_loss\n",
    "        final_val_loss = val_loss\n",
    "        final_val_acc = val_acc\n",
    "        final_epoch = epoch\n",
    "\n",
    "        if val_loss < best_vloss:\n",
    "            best_vloss = val_loss\n",
    "            epochs_from_best = 0\n",
    "        else:\n",
    "            epochs_from_best += 1\n",
    "\n",
    "        if epochs_from_best > k_epochs:\n",
    "            break\n",
    "\n",
    "    # print(f\"[{trans_name}] Final val acc: {100 * final_val_acc:.2f}%, val loss: {final_val_loss:.2f}, train loss: {final_train_loss:.2f}. At epoch {final_epoch}, \"\n",
    "    #       f\"for width={w}, depth={d}, act={act.__class__.__name__}, opt={opt.__name__}, lr={learning_rate}\")\n",
    "\n",
    "    if final_val_acc > best_val_acc_net_es_reg:\n",
    "        best_epoch_net_es_reg = final_epoch\n",
    "        best_train_loss_net_es_reg = final_train_loss\n",
    "        best_val_loss_net_es_reg = final_val_loss\n",
    "        best_val_acc_net_es_reg = final_val_acc\n",
    "        best_config_net_es_reg = {\n",
    "            \"width\": w,\n",
    "            \"depth\": d,\n",
    "            \"activation\": act.__class__.__name__,\n",
    "            \"preprocessing\": trans_name,\n",
    "            \"optimizer\": opt.__name__,\n",
    "            \"lr\": learning_rate\n",
    "        }\n"
   ]
  },
  {
   "cell_type": "code",
   "execution_count": 433,
   "metadata": {},
   "outputs": [
    {
     "name": "stdout",
     "output_type": "stream",
     "text": [
      "The best model with early stop regularization has val acc: 89.58%, train loss: 0.24, val loss: 0.33. At the epoch 15 with the params {'width': 128, 'depth': 3, 'activation': 'SELU', 'preprocessing': 'standardize', 'optimizer': 'RMSprop', 'lr': 0.001}\n"
     ]
    }
   ],
   "source": [
    "print(f\"The best model with early stop regularization has val acc: {100*best_val_acc_net_es_reg:.2f}%, train loss: {best_train_loss_net_es_reg:.2f}, val loss: {best_val_loss_net_es_reg:.2f}. At the epoch {best_epoch_net_es_reg} with the params {best_config_net_es_reg}\")"
   ]
  },
  {
   "cell_type": "markdown",
   "metadata": {},
   "source": [
    "---"
   ]
  },
  {
   "cell_type": "markdown",
   "metadata": {},
   "source": [
    "## FNN with dropout regularization"
   ]
  },
  {
   "cell_type": "markdown",
   "metadata": {},
   "source": [
    "Creating a new net model, with dropout regularization now"
   ]
  },
  {
   "cell_type": "code",
   "execution_count": 415,
   "metadata": {},
   "outputs": [],
   "source": [
    "class NetDropout(nn.Module):\n",
    "    def __init__(self, depth: int = 1, width: int = 16, activation=nn.ReLU(), dropout_prob: float = 0.5):\n",
    "        super().__init__()\n",
    "        self.activation = activation\n",
    "        self.input_layer = nn.Linear(32*32, width)\n",
    "\n",
    "        self.hidden_layers = nn.ModuleList()\n",
    "        for _ in range(depth - 1):\n",
    "            self.hidden_layers.append(nn.Sequential(\n",
    "                nn.Linear(width, width),\n",
    "                activation,\n",
    "                nn.Dropout(p=dropout_prob)\n",
    "            ))\n",
    "\n",
    "        self.fc_out = nn.Linear(width, 10)\n",
    "\n",
    "    def forward(self, x):\n",
    "        x = x.flatten(start_dim = 1)\n",
    "        x = self.activation(self.input_layer(x))\n",
    "        for block in self.hidden_layers:\n",
    "            x = block(x)\n",
    "        x = self.fc_out(x)\n",
    "        return x"
   ]
  },
  {
   "cell_type": "markdown",
   "metadata": {},
   "source": [
    "Testing if everything works fine on the simple model"
   ]
  },
  {
   "cell_type": "code",
   "execution_count": 418,
   "metadata": {},
   "outputs": [
    {
     "name": "stdout",
     "output_type": "stream",
     "text": [
      "Epoch 1/10: train accuracy = 16.96%, val accuracy = 18.13%, train loss: 2.22, val loss: 2.10\n",
      "Epoch 2/10: train accuracy = 21.07%, val accuracy = 24.91%, train loss: 1.99, val loss: 1.88\n",
      "Epoch 3/10: train accuracy = 24.78%, val accuracy = 27.05%, train loss: 1.80, val loss: 1.75\n",
      "Epoch 4/10: train accuracy = 26.55%, val accuracy = 26.36%, train loss: 1.73, val loss: 1.70\n",
      "Epoch 5/10: train accuracy = 27.43%, val accuracy = 30.31%, train loss: 1.69, val loss: 1.67\n",
      "Epoch 6/10: train accuracy = 30.87%, val accuracy = 36.09%, train loss: 1.65, val loss: 1.65\n",
      "Epoch 7/10: train accuracy = 37.71%, val accuracy = 38.67%, train loss: 1.49, val loss: 1.46\n",
      "Epoch 8/10: train accuracy = 39.05%, val accuracy = 38.61%, train loss: 1.45, val loss: 1.43\n",
      "Epoch 9/10: train accuracy = 40.64%, val accuracy = 41.04%, train loss: 1.42, val loss: 1.43\n",
      "Epoch 10/10: train accuracy = 40.92%, val accuracy = 41.70%, train loss: 1.41, val loss: 1.42\n"
     ]
    }
   ],
   "source": [
    "training_loader = torch.utils.data.DataLoader(train_data, batch_size=32, shuffle=True)\n",
    "validation_loader = torch.utils.data.DataLoader(val_data, batch_size=128, shuffle=False)\n",
    "num_epochs = 10\n",
    "check = NetDropout()\n",
    "optimizer = torch.optim.Adam(check.parameters(), lr=0.001)\n",
    "\n",
    "for epoch in range(num_epochs):\n",
    "    train_acc, train_loss = one_epoch(check, loss_fn, optimizer, training_loader)\n",
    "    val_acc, val_loss = eval_one_epoch(check, loss_fn, validation_loader)\n",
    "\n",
    "    print(f\"Epoch {epoch + 1}/{num_epochs}: train accuracy = {train_acc * 100:.2f}%, val accuracy = {val_acc * 100:.2f}%, train loss: {train_loss:.2f}, val loss: {val_loss:.2f}\")"
   ]
  },
  {
   "cell_type": "code",
   "execution_count": 428,
   "metadata": {},
   "outputs": [],
   "source": [
    "params_net_dp_reg = params_net_es_reg"
   ]
  },
  {
   "cell_type": "code",
   "execution_count": 429,
   "metadata": {},
   "outputs": [],
   "source": [
    "all_combinations_net_dp_reg = list(product(\n",
    "    transforms.items(),\n",
    "    params_net_dp_reg[\"width\"],\n",
    "    params_net_dp_reg[\"depth\"],\n",
    "    params_net_dp_reg[\"activation\"],\n",
    "    params_net_dp_reg[\"optimizer\"],\n",
    "    [0.001, 0.0001],\n",
    "    [0.1, 0.3, 0.5]\n",
    "))"
   ]
  },
  {
   "cell_type": "markdown",
   "metadata": {},
   "source": [
    "Training \"*new*\" (adding dropout regularization) model:"
   ]
  },
  {
   "cell_type": "code",
   "execution_count": 430,
   "metadata": {},
   "outputs": [
    {
     "name": "stderr",
     "output_type": "stream",
     "text": [
      "Total Progress: 100%|█████████████████████████████████████████████████████████████████████████████████████████████████████████| 972/972 [2:30:49<00:00,  9.31s/it]\n"
     ]
    }
   ],
   "source": [
    "num_epochs = 10\n",
    "best_train_loss_net_dp_reg = 0.\n",
    "best_val_loss_net_dp_reg = 0.\n",
    "best_val_acc_net_dp_reg = 0.\n",
    "best_epoch_net_dp_reg = 0\n",
    "best_config_net_dp_reg = None\n",
    "\n",
    "\n",
    "for (trans_name, transform), w, d, act, opt, learning_rate, dp_prob in tqdm(all_combinations_net_dp_reg, desc=\"Total Progress\"):\n",
    "    train_dataset = TabularDataset(df_train, transform=transform)\n",
    "    val_dataset = TabularDataset(df_val, transform=transform)\n",
    "    \n",
    "    training_loader = torch.utils.data.DataLoader(train_dataset, batch_size=32, shuffle=True)\n",
    "    validation_loader = torch.utils.data.DataLoader(val_dataset, batch_size=128, shuffle=False)\n",
    "\n",
    "    model = NetDropout(depth=d, width=w, activation=act, dropout_prob=dp_prob)\n",
    "    optimizer = opt(model.parameters(), lr=learning_rate)\n",
    "\n",
    "    best_run_epoch = 0\n",
    "    best_run_train_loss = 0\n",
    "    best_run_val_loss = 0\n",
    "    best_run_val_acc = 0.\n",
    "    \n",
    "    for epoch in range(1, num_epochs + 1):\n",
    "        train_acc, train_loss = one_epoch(model, loss_fn, optimizer, training_loader)\n",
    "        val_acc, val_loss = eval_one_epoch(model, loss_fn, validation_loader)\n",
    "\n",
    "        if val_acc > best_run_val_acc:\n",
    "            best_run_epoch = epoch\n",
    "            best_run_train_loss = train_loss\n",
    "            best_run_val_loss = val_loss\n",
    "            best_run_val_acc = val_acc\n",
    "\n",
    "    # print(f\"[{trans_name}] Best val acc: {100*best_run_val_acc:.2f}%, val loss: {best_run_val_loss:.2f}, train loss: {best_run_train_loss:.2f}. At epoch {best_run_epoch}, \"\n",
    "    #       f\"for width={w}, depth={d}, act={act.__class__.__name__}, opt={opt.__name__}, lr={learning_rate}, dropout_prob={dp_prob}\")\n",
    "\n",
    "    if best_run_val_acc > best_val_acc_net_dp_reg:\n",
    "        best_epoch_net_dp_reg = best_run_epoch\n",
    "        best_train_loss_net_dp_reg = best_run_train_loss\n",
    "        best_val_loss_net_dp_reg = best_run_val_loss\n",
    "        best_val_acc_net_dp_reg = best_run_val_acc\n",
    "        best_config_net_dp_reg = {\n",
    "            \"width\": w,\n",
    "            \"depth\": d,\n",
    "            \"activation\": act.__class__.__name__,\n",
    "            \"preprocessing\": trans_name,\n",
    "            \"optimizer\": opt.__name__,\n",
    "            \"lr\": learning_rate,\n",
    "            \"dropout_prob\": dp_prob\n",
    "        }\n"
   ]
  },
  {
   "cell_type": "code",
   "execution_count": 432,
   "metadata": {},
   "outputs": [
    {
     "name": "stdout",
     "output_type": "stream",
     "text": [
      "The best model with dropout regularization has val acc: 87.95%, train loss: 0.33, val loss: 0.37. At the epoch 10 with the params {'width': 128, 'depth': 1, 'activation': 'ReLU', 'preprocessing': 'standardize', 'optimizer': 'RMSprop', 'lr': 0.001, 'dropout_prob': 0.5}\n"
     ]
    }
   ],
   "source": [
    "print(f\"The best model with dropout regularization has val acc: {100*best_val_acc_net_dp_reg:.2f}%, train loss: {best_train_loss_net_dp_reg:.2f}, val loss: {best_val_loss_net_dp_reg:.2f}. At the epoch {best_epoch_net_dp_reg} with the params {best_config_net_dp_reg}\")"
   ]
  },
  {
   "cell_type": "markdown",
   "metadata": {},
   "source": [
    "---"
   ]
  },
  {
   "cell_type": "markdown",
   "metadata": {},
   "source": [
    "## FNN with L1 regularization"
   ]
  },
  {
   "cell_type": "markdown",
   "metadata": {},
   "source": [
    "Function, that would perform l1 regularization across all the hidden layers"
   ]
  },
  {
   "cell_type": "code",
   "execution_count": 440,
   "metadata": {},
   "outputs": [],
   "source": [
    "def train_one_epoch_lreg(model: nn.Module, criterion: nn.Module, optimizer: torch.optim.Optimizer, training_loader: torch.utils.data.DataLoader, l_alpha: float = 0.1) -> tuple[float, float]:\n",
    "    model.train()\n",
    "    correct = 0\n",
    "    total = 0\n",
    "    running_cum_loss = 0.\n",
    "\n",
    "    for X_batch, y_batch in training_loader:\n",
    "        X_batch, y_batch = X_batch.to(), y_batch.to()\n",
    "\n",
    "        optimizer.zero_grad()\n",
    "        outputs = model(X_batch)\n",
    "        loss = criterion(outputs, y_batch)\n",
    "\n",
    "        l_reg = torch.tensor(0., device=next(model.parameters()).device)\n",
    "        for name, param in model.named_parameters():\n",
    "            if \"weight\" in name:\n",
    "                l_reg += torch.norm(param, 1)\n",
    "\n",
    "        loss = loss + l_alpha * l_reg\n",
    "\n",
    "        loss.backward()\n",
    "        optimizer.step()\n",
    "\n",
    "        batch_size = X_batch.size(0)\n",
    "        running_cum_loss += loss.item() * batch_size\n",
    "\n",
    "        _, predicted = outputs.max(1)\n",
    "        correct += (predicted == y_batch).sum().item()\n",
    "        total += batch_size\n",
    "            \n",
    "    avg_loss = running_cum_loss / total\n",
    "    acc = correct / total\n",
    "    \n",
    "    return acc, avg_loss"
   ]
  },
  {
   "cell_type": "code",
   "execution_count": 448,
   "metadata": {},
   "outputs": [],
   "source": [
    "params_net_l1_reg = params_net_es_reg"
   ]
  },
  {
   "cell_type": "code",
   "execution_count": 449,
   "metadata": {},
   "outputs": [],
   "source": [
    "all_combinations_net_dp_reg = list(product(\n",
    "    transforms.items(),\n",
    "    params_net_l1_reg[\"width\"],\n",
    "    params_net_l1_reg[\"depth\"],\n",
    "    params_net_l1_reg[\"activation\"],\n",
    "    params_net_l1_reg[\"optimizer\"],\n",
    "    [0.001, 0.0001],\n",
    "    [0.0001, 0.001, 0.01]\n",
    "))"
   ]
  },
  {
   "cell_type": "markdown",
   "metadata": {},
   "source": [
    "Training the model with L1 regularization:"
   ]
  },
  {
   "cell_type": "code",
   "execution_count": 450,
   "metadata": {},
   "outputs": [
    {
     "name": "stderr",
     "output_type": "stream",
     "text": [
      "Total Progress: 100%|█████████████████████████████████████████████████████████████████████████████████████████████████████████| 972/972 [2:52:28<00:00, 10.65s/it]\n"
     ]
    }
   ],
   "source": [
    "num_epochs = 10\n",
    "best_train_loss_net_l1_reg = 0.\n",
    "best_val_loss_net_l1_reg = 0.\n",
    "best_val_acc_net_l1_reg = 0.\n",
    "best_epoch_net_l1_reg = 0\n",
    "best_config_net_l1_reg = None\n",
    "\n",
    "\n",
    "for (trans_name, transform), w, d, act, opt, learning_rate, l_alpha in tqdm(all_combinations_net_dp_reg, desc=\"Total Progress\"):\n",
    "    train_dataset = TabularDataset(df_train, transform=transform)\n",
    "    val_dataset = TabularDataset(df_val, transform=transform)\n",
    "    \n",
    "    training_loader = torch.utils.data.DataLoader(train_dataset, batch_size=32, shuffle=True)\n",
    "    validation_loader = torch.utils.data.DataLoader(val_dataset, batch_size=128, shuffle=False)\n",
    "\n",
    "    model = Net(depth=d, width=w, activation=act)\n",
    "    optimizer = opt(model.parameters(), lr=learning_rate)\n",
    "\n",
    "    best_run_epoch = 0\n",
    "    best_run_train_loss = 0\n",
    "    best_run_val_loss = 0\n",
    "    best_run_val_acc = 0.\n",
    "    \n",
    "    for epoch in range(1, num_epochs + 1):\n",
    "        train_acc, train_loss = train_one_epoch_lreg(model, loss_fn, optimizer, training_loader, l_alpha)\n",
    "        val_acc, val_loss = eval_one_epoch(model, loss_fn, validation_loader)\n",
    "\n",
    "        if val_acc > best_run_val_acc:\n",
    "            best_run_epoch = epoch\n",
    "            best_run_train_loss = train_loss\n",
    "            best_run_val_loss = val_loss\n",
    "            best_run_val_acc = val_acc\n",
    "\n",
    "    # print(f\"[{trans_name}] Best val acc: {100*best_run_val_acc:.2f}%, val loss: {best_run_val_loss:.2f}, train loss: {best_run_train_loss:.2f}. At epoch {best_run_epoch}, \"\n",
    "    #       f\"for width={w}, depth={d}, act={act.__class__.__name__}, opt={opt.__name__}, lr={learning_rate}, l_alpha={l_alpha}\")\n",
    "\n",
    "    if best_run_val_acc > best_val_acc_net_l1_reg:\n",
    "        best_epoch_net_l1_reg = best_run_epoch\n",
    "        best_train_loss_net_l1_reg = best_run_train_loss\n",
    "        best_val_loss_net_l1_reg = best_run_val_loss\n",
    "        best_val_acc_net_l1_reg = best_run_val_acc\n",
    "        best_config_net_l1_reg = {\n",
    "            \"width\": w,\n",
    "            \"depth\": d,\n",
    "            \"activation\": act.__class__.__name__,\n",
    "            \"preprocessing\": trans_name,\n",
    "            \"optimizer\": opt.__name__,\n",
    "            \"lr\": learning_rate,\n",
    "            \"l_alpha\": l_alpha\n",
    "        }\n"
   ]
  },
  {
   "cell_type": "code",
   "execution_count": 453,
   "metadata": {},
   "outputs": [
    {
     "name": "stdout",
     "output_type": "stream",
     "text": [
      "The best model with L1 regularization has val acc: 86.90%, train loss: 0.60, val loss: 0.37. At the epoch 9 with the params {'width': 128, 'depth': 3, 'activation': 'ReLU', 'preprocessing': 'none', 'optimizer': 'Adam', 'lr': 0.0001, 'l_alpha': 0.0001}\n"
     ]
    }
   ],
   "source": [
    "print(f\"The best model with L1 regularization has val acc: {100*best_val_acc_net_l1_reg:.2f}%, train loss: {best_train_loss_net_l1_reg:.2f}, val loss: {best_val_loss_net_l1_reg:.2f}. At the epoch {best_epoch_net_l1_reg} with the params {best_config_net_l1_reg}\")"
   ]
  },
  {
   "cell_type": "markdown",
   "metadata": {},
   "source": [
    "---"
   ]
  },
  {
   "cell_type": "markdown",
   "metadata": {},
   "source": [
    "# CNN"
   ]
  },
  {
   "cell_type": "markdown",
   "metadata": {},
   "source": [
    "Creating new class for dataloader, cnn expects images in format size*size, not flattened like fnn"
   ]
  },
  {
   "cell_type": "code",
   "execution_count": 629,
   "metadata": {},
   "outputs": [],
   "source": [
    "class CnnTabularDataset(Dataset):\n",
    "    def __init__(self, df, transform=None, image_size=32):\n",
    "        self.X = torch.tensor(df.drop(columns=\"label\").values, dtype=torch.float32)\n",
    "        self.y = torch.tensor(df[\"label\"].values, dtype=torch.long)\n",
    "        self.transform = transform\n",
    "        self.image_size = image_size\n",
    "\n",
    "    def __len__(self):\n",
    "        return len(self.X)\n",
    "    \n",
    "    def __getitem__(self, idx):\n",
    "        x = self.X[idx]\n",
    "        if self.transform:\n",
    "            x = self.transform(x)\n",
    "        x = x.view(1, self.image_size, self.image_size)\n",
    "        return x, self.y[idx]"
   ]
  },
  {
   "cell_type": "markdown",
   "metadata": {},
   "source": [
    "Creating the model for conv net"
   ]
  },
  {
   "cell_type": "code",
   "execution_count": 483,
   "metadata": {},
   "outputs": [],
   "source": [
    "class ConvNet(nn.Module):\n",
    "    def __init__(self, depth: int = 1, width: int = 16, activation=nn.ReLU()):\n",
    "        super().__init__()\n",
    "        self.activation = activation\n",
    "\n",
    "        self.conv_layers = nn.ModuleList()\n",
    "        self.conv_layers.append(nn.Conv2d(in_channels=1, out_channels=width, kernel_size=3))\n",
    "        for _ in range(depth - 1):\n",
    "            self.conv_layers.append(nn.Conv2d(in_channels=width, out_channels=width, kernel_size=3))\n",
    "\n",
    "        self.pool = nn.MaxPool2d(kernel_size=2, stride=2)\n",
    "\n",
    "        size = 32\n",
    "        for _ in range(depth):\n",
    "            size = size - 2 \n",
    "            size = size // 2\n",
    "\n",
    "        self.flattened_size = width * size * size\n",
    "        self.fc_out = nn.Linear(self.flattened_size, 10)\n",
    "\n",
    "    def forward(self, x):\n",
    "        for conv in self.conv_layers:\n",
    "            x = self.pool(self.activation(conv(x)))\n",
    "        x = x.view(x.size(0), -1)\n",
    "        x = self.fc_out(x)\n",
    "        return x"
   ]
  },
  {
   "cell_type": "markdown",
   "metadata": {},
   "source": [
    "Training the baseline cnn to see if everything works fine"
   ]
  },
  {
   "cell_type": "code",
   "execution_count": 484,
   "metadata": {},
   "outputs": [
    {
     "name": "stdout",
     "output_type": "stream",
     "text": [
      "Epoch 1/10: train accuracy = 75.77%, val accuracy = 82.39%, train loss: 1.76, val loss: 0.52\n",
      "Epoch 2/10: train accuracy = 83.25%, val accuracy = 85.28%, train loss: 0.49, val loss: 0.42\n",
      "Epoch 3/10: train accuracy = 85.09%, val accuracy = 85.26%, train loss: 0.42, val loss: 0.44\n",
      "Epoch 4/10: train accuracy = 86.04%, val accuracy = 86.70%, train loss: 0.40, val loss: 0.40\n",
      "Epoch 5/10: train accuracy = 86.81%, val accuracy = 85.89%, train loss: 0.37, val loss: 0.44\n",
      "Epoch 6/10: train accuracy = 87.39%, val accuracy = 85.90%, train loss: 0.35, val loss: 0.43\n",
      "Epoch 7/10: train accuracy = 87.82%, val accuracy = 87.30%, train loss: 0.34, val loss: 0.40\n",
      "Epoch 8/10: train accuracy = 88.38%, val accuracy = 86.90%, train loss: 0.32, val loss: 0.42\n",
      "Epoch 9/10: train accuracy = 88.44%, val accuracy = 87.02%, train loss: 0.31, val loss: 0.44\n",
      "Epoch 10/10: train accuracy = 89.22%, val accuracy = 86.80%, train loss: 0.30, val loss: 0.43\n"
     ]
    }
   ],
   "source": [
    "train_dataset_cnn = CnnTabularDataset(df_train, image_size=32)\n",
    "val_dataset_cnn = CnnTabularDataset(df_val, image_size=32)\n",
    "\n",
    "training_loader = torch.utils.data.DataLoader(train_dataset_cnn, batch_size=32, shuffle=True)\n",
    "validation_loader = torch.utils.data.DataLoader(val_dataset_cnn, batch_size=128, shuffle=False)\n",
    "num_epochs = 10\n",
    "model = ConvNet()\n",
    "optimizer = torch.optim.Adam(model.parameters(), lr=0.001)\n",
    "\n",
    "for epoch in range(num_epochs):\n",
    "    train_acc, train_loss = one_epoch(model, loss_fn, optimizer, training_loader)\n",
    "    val_acc, val_loss = eval_one_epoch(model, loss_fn, validation_loader)\n",
    "\n",
    "    print(f\"Epoch {epoch + 1}/{num_epochs}: train accuracy = {train_acc * 100:.2f}%, val accuracy = {val_acc * 100:.2f}%, train loss: {train_loss:.2f}, val loss: {val_loss:.2f}\")"
   ]
  },
  {
   "cell_type": "markdown",
   "metadata": {},
   "source": [
    "As it can be seen, **even the baseline shows good results**, that fnn could give only with a big amount of hyperparamets tuned"
   ]
  },
  {
   "cell_type": "markdown",
   "metadata": {},
   "source": [
    "As I my machine only has CPU, I will first tune the width, depth and transform to see what would perform best. Then with the collected I will train other hyperparameters"
   ]
  },
  {
   "cell_type": "code",
   "execution_count": 485,
   "metadata": {},
   "outputs": [],
   "source": [
    "cnn_params = {\n",
    "    \"width\": [32, 64, 128],\n",
    "    \"depth\": range(1, 4)\n",
    "}"
   ]
  },
  {
   "cell_type": "code",
   "execution_count": 486,
   "metadata": {},
   "outputs": [],
   "source": [
    "all_combinations_cnnnet_simple = list(product(\n",
    "    transforms.items(),\n",
    "    cnn_params[\"width\"],\n",
    "    cnn_params[\"depth\"],\n",
    "))"
   ]
  },
  {
   "cell_type": "code",
   "execution_count": 488,
   "metadata": {},
   "outputs": [
    {
     "name": "stderr",
     "output_type": "stream",
     "text": [
      "Total Progress: 100%|██████████████████████████████████████████████████████████████████████████████████████████████████████████| 27/27 [1:47:45<00:00, 239.47s/it]\n"
     ]
    }
   ],
   "source": [
    "num_epochs = 12\n",
    "best_train_loss_cnnnet = 0.\n",
    "best_val_loss_cnnnet = 0.\n",
    "best_val_acc_cnnnet = 0.\n",
    "best_epoch_cnnnet = 0\n",
    "best_config_cnnnet = None\n",
    "\n",
    "results_cnn_simple = []\n",
    "\n",
    "for (trans_name, transform), w, d, in tqdm(all_combinations_cnnnet_simple, desc=\"Total Progress\"):\n",
    "    train_dataset_cnn = CnnTabularDataset(df_train, transform=transform, image_size=32)\n",
    "    val_dataset_cnn = CnnTabularDataset(df_val, transform=transform, image_size=32)\n",
    "    \n",
    "    training_loader = torch.utils.data.DataLoader(train_dataset_cnn, batch_size=32, shuffle=True)\n",
    "    validation_loader = torch.utils.data.DataLoader(val_dataset_cnn, batch_size=128, shuffle=False)\n",
    "    \n",
    "    model = ConvNet(depth=d, width=w)\n",
    "    optimizer = torch.optim.Adam(model.parameters(), lr=0.001)\n",
    "\n",
    "    best_run_epoch = 0\n",
    "    best_run_train_loss = 0\n",
    "    best_run_val_loss = 0\n",
    "    best_run_val_acc = 0.\n",
    "    \n",
    "    for epoch in range(1, num_epochs + 1):\n",
    "        train_acc, train_loss = one_epoch(model, loss_fn, optimizer, training_loader)\n",
    "        val_acc, val_loss = eval_one_epoch(model, loss_fn, validation_loader)\n",
    "\n",
    "        if val_acc > best_run_val_acc:\n",
    "            best_run_epoch = epoch\n",
    "            best_run_train_loss = train_loss\n",
    "            best_run_val_loss = val_loss\n",
    "            best_run_val_acc = val_acc\n",
    "\n",
    "    # print(f\"[{trans_name}] Best val acc: {100*best_run_val_acc:.2f}%, val loss: {best_run_val_loss:.2f}, train loss: {best_run_train_loss:.2f}. At epoch {best_run_epoch}, \"\n",
    "    #       f\"for width={w}, depth={d}\")\n",
    "\n",
    "    if best_run_val_acc > best_val_acc_cnnnet:\n",
    "        best_epoch_cnnnet = best_run_epoch\n",
    "        best_train_loss_cnnnet = best_run_train_loss\n",
    "        best_val_loss_cnnnet = best_run_val_loss\n",
    "        best_val_acc_cnnnet = best_run_val_acc\n",
    "        best_config_cnnnet = {\n",
    "            \"width\": w,\n",
    "            \"depth\": d,\n",
    "            \"preprocessing\": trans_name\n",
    "        }\n",
    "\n",
    "    results_cnn_simple.append({\n",
    "        \"transform\": trans_name,\n",
    "        \"width\": w,\n",
    "        \"depth\": d,\n",
    "        \"val_acc\": best_run_val_acc,\n",
    "        \"val_loss\": best_run_val_loss,\n",
    "        \"train_loss\": best_run_train_loss,\n",
    "        \"epoch\": best_run_epoch\n",
    "    })\n"
   ]
  },
  {
   "cell_type": "code",
   "execution_count": 489,
   "metadata": {},
   "outputs": [
    {
     "name": "stdout",
     "output_type": "stream",
     "text": [
      "The best cnn model with no regularization has val acc: 94.12%, train loss: 0.08, val loss: 0.24. At the epoch 12 with the params {'width': 128, 'depth': 3, 'preprocessing': 'standardize'}\n"
     ]
    }
   ],
   "source": [
    "print(f\"The best cnn model with no regularization has val acc: {100*best_val_acc_cnnnet:.2f}%, train loss: {best_train_loss_cnnnet:.2f}, val loss: {best_val_loss_cnnnet:.2f}. At the epoch {best_epoch_cnnnet} with the params {best_config_cnnnet}\")"
   ]
  },
  {
   "cell_type": "code",
   "execution_count": 490,
   "metadata": {},
   "outputs": [],
   "source": [
    "df_cnn_simple_results = pd.DataFrame(results_cnn_simple)"
   ]
  },
  {
   "cell_type": "code",
   "execution_count": 493,
   "metadata": {},
   "outputs": [
    {
     "name": "stdout",
     "output_type": "stream",
     "text": [
      "Acc > 90% per transform:\n",
      "transform\n",
      "standardize    9\n",
      "normalize      6\n",
      "none           1\n",
      "Name: count, dtype: int64\n",
      "\n",
      "Acc > 90% per depth:\n",
      "depth\n",
      "3    6\n",
      "1    5\n",
      "2    5\n",
      "Name: count, dtype: int64\n",
      "\n",
      "Acc > 90% per width:\n",
      "width\n",
      "128    7\n",
      "64     6\n",
      "32     3\n",
      "Name: count, dtype: int64\n"
     ]
    }
   ],
   "source": [
    "threshold = 0.9\n",
    "\n",
    "print(\"Acc > 90% per transform:\")\n",
    "print(df_cnn_simple_results[df_cnn_simple_results[\"val_acc\"] > threshold][\"transform\"].value_counts())\n",
    "\n",
    "print(\"\\nAcc > 90% per depth:\")\n",
    "print(df_cnn_simple_results[df_cnn_simple_results[\"val_acc\"] > threshold][\"depth\"].value_counts())\n",
    "\n",
    "print(\"\\nAcc > 90% per width:\")\n",
    "print(df_cnn_simple_results[df_cnn_simple_results[\"val_acc\"] > threshold][\"width\"].value_counts())"
   ]
  },
  {
   "cell_type": "markdown",
   "metadata": {},
   "source": [
    "Plotting a graph, that would show with which parameters a certain configuration performed really well (val accurace above 0.9)"
   ]
  },
  {
   "cell_type": "code",
   "execution_count": 511,
   "metadata": {},
   "outputs": [
    {
     "data": {
      "image/png": "[encoded data removed]",
      "text/plain": [
       "<Figure size 1600x800 with 3 Axes>"
      ]
     },
     "metadata": {},
     "output_type": "display_data"
    }
   ],
   "source": [
    "fig, (ax1, ax2, ax3) = plt.subplots(3, 1, figsize=(16, 8))\n",
    "\n",
    "sns.countplot(data=df_cnn_simple_results[df_cnn_simple_results[\"val_acc\"] > threshold], x=\"transform\", ax=ax1, color=\"lightseagreen\")\n",
    "ax1.set_title(f\"Val accuracy > {threshold*100:.0f}% by Transform\")\n",
    "\n",
    "sns.countplot(data=df_cnn_simple_results[df_cnn_simple_results[\"val_acc\"] > threshold], x=\"depth\", ax=ax2, color=\"lightseagreen\")\n",
    "ax2.set_title(f\"Val accuracy > {threshold*100:.0f}% by Depth\")\n",
    "\n",
    "sns.countplot(data=df_cnn_simple_results[df_cnn_simple_results[\"val_acc\"] > threshold], x=\"width\", ax=ax3, color=\"lightseagreen\")\n",
    "ax3.set_title(f\"Val accuracy > {threshold*100:.0f}% by Width\")\n",
    "\n",
    "plt.tight_layout()\n",
    "plt.show()"
   ]
  },
  {
   "cell_type": "markdown",
   "metadata": {},
   "source": [
    "As we can see, the obvious winner in data transformers is **standartization**, it also performed the best in regular feedforward neural network, judjing by the best parametr of models I could achive. \n",
    "The best depth and widht seem to be **3** and **128** resp. Their combination also makes sence, judjing from previous model results"
   ]
  },
  {
   "cell_type": "markdown",
   "metadata": {},
   "source": [
    "This gives me the intuition to train other hyperparametrs with chosen parameters for data transormer, depth and widht being standartization, 3 and 128 resp."
   ]
  },
  {
   "cell_type": "markdown",
   "metadata": {},
   "source": [
    "Activation functions selu and relu proved to be the best in previous runs on the feedforward neural network, as well as optimizers adam and rmsprop with the learining rate 0.001/0.0001. So I will to choose the best combinations from those "
   ]
  },
  {
   "cell_type": "code",
   "execution_count": 540,
   "metadata": {},
   "outputs": [],
   "source": [
    "cnn_params_bet = {\n",
    "    \"activation\": [nn.ReLU(), nn.SELU()],\n",
    "    \"optimizer\": [torch.optim.RMSprop, torch.optim.Adam],\n",
    "    \"lr\": [0.0001, 0.001]\n",
    "}"
   ]
  },
  {
   "cell_type": "code",
   "execution_count": 541,
   "metadata": {},
   "outputs": [],
   "source": [
    "all_combinations_cnnnet_bet = list(product(\n",
    "    cnn_params_bet[\"activation\"],\n",
    "    cnn_params_bet[\"optimizer\"],\n",
    "    cnn_params_bet[\"lr\"]\n",
    "))"
   ]
  },
  {
   "cell_type": "code",
   "execution_count": 543,
   "metadata": {},
   "outputs": [
    {
     "name": "stderr",
     "output_type": "stream",
     "text": [
      "Total Progress: 100%|████████████████████████████████████████████████████████████████████████████████████████████████████████████| 8/8 [1:11:16<00:00, 534.56s/it]\n"
     ]
    }
   ],
   "source": [
    "num_epochs = 12\n",
    "best_train_loss_cnnnet_bet = 0.\n",
    "best_val_loss_cnnnet_bet = 0.\n",
    "best_val_acc_cnnnet_bet = 0.\n",
    "best_epoch_cnnnet_bet = 0\n",
    "best_config_cnnnet_bet = None\n",
    "\n",
    "\n",
    "for act, opt, learning_rate in tqdm(all_combinations_cnnnet_bet, desc=\"Total Progress\"):\n",
    "    train_dataset_cnn = CnnTabularDataset(df_train, transform=standardize_transform, image_size=32)\n",
    "    val_dataset_cnn = CnnTabularDataset(df_val, transform=standardize_transform, image_size=32)\n",
    "    \n",
    "    training_loader = torch.utils.data.DataLoader(train_dataset_cnn, batch_size=32, shuffle=True)\n",
    "    validation_loader = torch.utils.data.DataLoader(val_dataset_cnn, batch_size=128, shuffle=False)\n",
    "    \n",
    "    model = ConvNet(depth=3, width=128, activation=act)\n",
    "    optimizer = opt(model.parameters(), lr=learning_rate)\n",
    "\n",
    "    best_run_epoch = 0\n",
    "    best_run_train_loss = 0\n",
    "    best_run_val_loss = 0\n",
    "    best_run_val_acc = 0.\n",
    "    \n",
    "    for epoch in range(1, num_epochs + 1):\n",
    "        train_acc, train_loss = one_epoch(model, loss_fn, optimizer, training_loader)\n",
    "        val_acc, val_loss = eval_one_epoch(model, loss_fn, validation_loader)\n",
    "\n",
    "        if val_acc > best_run_val_acc:\n",
    "            best_run_epoch = epoch\n",
    "            best_run_train_loss = train_loss\n",
    "            best_run_val_loss = val_loss\n",
    "            best_run_val_acc = val_acc\n",
    "\n",
    "    # print(f\"Best val acc: {100*best_run_val_acc:.2f}%, val loss: {best_run_val_loss:.2f}, train loss: {best_run_train_loss:.2f}. At epoch {best_run_epoch}, \"\n",
    "    #       f\"act={act.__class__.__name__}, opt={opt.__name__}, lr={learning_rate}\")\n",
    "\n",
    "    if best_run_val_acc > best_val_acc_cnnnet_bet:\n",
    "        best_epoch_cnnnet_bet = best_run_epoch\n",
    "        best_train_loss_cnnnet_bet = best_run_train_loss\n",
    "        best_val_loss_cnnnet_bet = best_run_val_loss\n",
    "        best_val_acc_cnnnet_bet = best_run_val_acc\n",
    "        best_config_cnnnet_bet = {\n",
    "            \"activation\": act.__class__.__name__,\n",
    "            \"optimizer\": opt.__name__,\n",
    "            \"lr\": learning_rate\n",
    "        }\n"
   ]
  },
  {
   "cell_type": "code",
   "execution_count": 544,
   "metadata": {},
   "outputs": [
    {
     "name": "stdout",
     "output_type": "stream",
     "text": [
      "The best cnn model with no regularization has val acc: 94.09%, train loss: 0.11, val loss: 0.21. At the epoch 11 with the params {'activation': 'ReLU', 'optimizer': 'Adam', 'lr': 0.001}\n"
     ]
    }
   ],
   "source": [
    "print(f\"The best cnn model with no regularization has val acc: {100*best_val_acc_cnnnet_bet:.2f}%, train loss: {best_train_loss_cnnnet_bet:.2f}, val loss: {best_val_loss_cnnnet_bet:.2f}. At the epoch {best_epoch_cnnnet_bet} with the params {best_config_cnnnet_bet}\")"
   ]
  },
  {
   "cell_type": "markdown",
   "metadata": {},
   "source": [
    "---"
   ]
  },
  {
   "cell_type": "markdown",
   "metadata": {},
   "source": [
    "## CNN with Dropout Regularization"
   ]
  },
  {
   "cell_type": "markdown",
   "metadata": {},
   "source": [
    "Creating a model for the cnn with dropout regularization now"
   ]
  },
  {
   "cell_type": "code",
   "execution_count": 628,
   "metadata": {},
   "outputs": [],
   "source": [
    "class ConvNetDropout(nn.Module):\n",
    "    def __init__(self, depth: int = 1, width: int = 16, activation=nn.ReLU(), dropout_prob: float = 0.5):\n",
    "        super().__init__()\n",
    "        self.activation = activation\n",
    "        self.conv_layers = nn.ModuleList()\n",
    "\n",
    "        self.conv_layers.append(nn.Sequential(\n",
    "            nn.Conv2d(in_channels=1, out_channels=width, kernel_size=3),\n",
    "            activation,\n",
    "            nn.Dropout(p=dropout_prob)\n",
    "        ))\n",
    "\n",
    "        for _ in range(depth - 1):\n",
    "            self.conv_layers.append(nn.Sequential(\n",
    "                nn.Conv2d(in_channels=width, out_channels=width, kernel_size=3),\n",
    "                activation,\n",
    "                nn.Dropout(p=dropout_prob)\n",
    "            ))\n",
    "\n",
    "        self.pool = nn.MaxPool2d(kernel_size=2, stride=2)\n",
    "\n",
    "        size = 32\n",
    "        for _ in range(depth):\n",
    "            size = size - 2 \n",
    "            size = size // 2\n",
    "\n",
    "        self.flattened_size = width * size * size\n",
    "        self.fc_out = nn.Linear(self.flattened_size, 10)\n",
    "\n",
    "    def forward(self, x):\n",
    "        for conv_block in self.conv_layers:\n",
    "            x = self.pool(conv_block(x))\n",
    "        x = x.view(x.size(0), -1)\n",
    "        x = self.fc_out(x)\n",
    "        return x\n"
   ]
  },
  {
   "cell_type": "markdown",
   "metadata": {},
   "source": [
    "Training the cnn with dropout regularization"
   ]
  },
  {
   "cell_type": "code",
   "execution_count": 553,
   "metadata": {},
   "outputs": [],
   "source": [
    "drop_probs = [x/10 for x in range (1, 6)]"
   ]
  },
  {
   "cell_type": "code",
   "execution_count": 554,
   "metadata": {},
   "outputs": [
    {
     "name": "stderr",
     "output_type": "stream",
     "text": [
      "Total Progress: 100%|██████████████████████████████████████████████████████████████████████████████████████████████████████████████| 5/5 [57:34<00:00, 690.86s/it]\n"
     ]
    }
   ],
   "source": [
    "num_epochs = 12\n",
    "best_train_loss_cnnnet_dp = 0.\n",
    "best_val_loss_cnnnet_dp = 0.\n",
    "best_val_acc_cnnnet_dp = 0.\n",
    "best_epoch_cnnnet_dp = 0\n",
    "best_prob_cnnnet_dp = 0\n",
    "\n",
    "\n",
    "for drop_prob in tqdm(drop_probs, desc=\"Total Progress\"):\n",
    "    train_dataset_cnn = CnnTabularDataset(df_train, transform=standardize_transform, image_size=32)\n",
    "    val_dataset_cnn = CnnTabularDataset(df_val, transform=standardize_transform, image_size=32)\n",
    "    \n",
    "    training_loader = torch.utils.data.DataLoader(train_dataset_cnn, batch_size=32, shuffle=True)\n",
    "    validation_loader = torch.utils.data.DataLoader(val_dataset_cnn, batch_size=128, shuffle=False)\n",
    "    \n",
    "    model = ConvNetDropout(depth=3, width=128, activation=nn.ReLU(), dropout_prob=drop_prob)\n",
    "    optimizer = torch.optim.Adam(model.parameters(), lr=0.001)\n",
    "\n",
    "    best_run_epoch = 0\n",
    "    best_run_train_loss = 0\n",
    "    best_run_val_loss = 0\n",
    "    best_run_val_acc = 0.\n",
    "    \n",
    "    for epoch in range(1, num_epochs + 1):\n",
    "        train_acc, train_loss = one_epoch(model, loss_fn, optimizer, training_loader)\n",
    "        val_acc, val_loss = eval_one_epoch(model, loss_fn, validation_loader)\n",
    "\n",
    "        if val_acc > best_run_val_acc:\n",
    "            best_run_epoch = epoch\n",
    "            best_run_train_loss = train_loss\n",
    "            best_run_val_loss = val_loss\n",
    "            best_run_val_acc = val_acc\n",
    "\n",
    "    # print(f\"Best val acc: {100*best_run_val_acc:.2f}%, val loss: {best_run_val_loss:.2f}, train loss: {best_run_train_loss:.2f}. At epoch {best_run_epoch}, \"\n",
    "    #       f\"prob={drop_prob}\")\n",
    "\n",
    "    if best_run_val_acc > best_val_acc_cnnnet_dp:\n",
    "        best_epoch_cnnnet_dp = best_run_epoch\n",
    "        best_train_loss_cnnnet_dp = best_run_train_loss\n",
    "        best_val_loss_cnnnet_dp = best_run_val_loss\n",
    "        best_val_acc_cnnnet_dp = best_run_val_acc\n",
    "        best_prob_cnnnet_dp = drop_prob\n"
   ]
  },
  {
   "cell_type": "code",
   "execution_count": 556,
   "metadata": {},
   "outputs": [
    {
     "name": "stdout",
     "output_type": "stream",
     "text": [
      "The best cnn model with dropout regularization has val acc: 93.50%, train loss: 0.16, val loss: 0.20. At the epoch 12 with the dropout probability 0.1\n"
     ]
    }
   ],
   "source": [
    "print(f\"The best cnn model with dropout regularization has val acc: {100*best_val_acc_cnnnet_dp:.2f}%, train loss: {best_train_loss_cnnnet_dp:.2f}, val loss: {best_val_loss_cnnnet_dp:.2f}. At the epoch {best_epoch_cnnnet_dp} with the dropout probability {best_prob_cnnnet_dp}\")"
   ]
  },
  {
   "cell_type": "markdown",
   "metadata": {},
   "source": [
    "---"
   ]
  },
  {
   "cell_type": "markdown",
   "metadata": {},
   "source": [
    "## CNN L1 regularization"
   ]
  },
  {
   "cell_type": "markdown",
   "metadata": {},
   "source": [
    "Training the cnn with l1 regularization"
   ]
  },
  {
   "cell_type": "code",
   "execution_count": 558,
   "metadata": {},
   "outputs": [],
   "source": [
    "l_alphas = [0.0001, 0.001, 0.01]"
   ]
  },
  {
   "cell_type": "code",
   "execution_count": 560,
   "metadata": {},
   "outputs": [
    {
     "name": "stderr",
     "output_type": "stream",
     "text": [
      "Total Progress: 100%|██████████████████████████████████████████████████████████████████████████████████████████████████████████████| 3/3 [26:39<00:00, 533.24s/it]\n"
     ]
    }
   ],
   "source": [
    "num_epochs = 12\n",
    "best_train_loss_cnnnet_l1 = 0.\n",
    "best_val_loss_cnnnet_l1 = 0.\n",
    "best_val_acc_cnnnet_l1 = 0.\n",
    "best_epoch_cnnnet_l1 = 0\n",
    "best_alpha_l1 = None\n",
    "\n",
    "\n",
    "for l_alpha in tqdm(l_alphas, desc=\"Total Progress\"):\n",
    "\n",
    "    train_dataset_cnn = CnnTabularDataset(df_train, transform=standardize_transform, image_size=32)\n",
    "    val_dataset_cnn = CnnTabularDataset(df_val, transform=standardize_transform, image_size=32)\n",
    "    \n",
    "    training_loader = torch.utils.data.DataLoader(train_dataset_cnn, batch_size=32, shuffle=True)\n",
    "    validation_loader = torch.utils.data.DataLoader(val_dataset_cnn, batch_size=128, shuffle=False)\n",
    "    \n",
    "    model = ConvNet(depth=3, width=128, activation=nn.ReLU())\n",
    "    optimizer = torch.optim.Adam(model.parameters(), lr=0.001)\n",
    "\n",
    "    best_run_epoch = 0\n",
    "    best_run_train_loss = 0\n",
    "    best_run_val_loss = 0\n",
    "    best_run_val_acc = 0.\n",
    "    \n",
    "    for epoch in range(1, num_epochs + 1):\n",
    "        train_acc, train_loss = train_one_epoch_lreg(model, loss_fn, optimizer, training_loader, l_alpha)\n",
    "        val_acc, val_loss = eval_one_epoch(model, loss_fn, validation_loader)\n",
    "\n",
    "        if val_acc > best_run_val_acc:\n",
    "            best_run_epoch = epoch\n",
    "            best_run_train_loss = train_loss\n",
    "            best_run_val_loss = val_loss\n",
    "            best_run_val_acc = val_acc\n",
    "\n",
    "    # print(f\"[{trans_name}] Best val acc: {100*best_run_val_acc:.2f}%, val loss: {best_run_val_loss:.2f}, train loss: {best_run_train_loss:.2f}. At epoch {best_run_epoch}, \"\n",
    "    #       f\"l_alpha={l_alpha}\")\n",
    "\n",
    "    if best_run_val_acc > best_val_acc_cnnnet_l1:\n",
    "        best_epoch_cnnnet_l1 = best_run_epoch\n",
    "        best_train_loss_cnnnet_l1 = best_run_train_loss\n",
    "        best_val_loss_cnnnet_l1 = best_run_val_loss\n",
    "        best_val_acc_cnnnet_l1 = best_run_val_acc\n",
    "        best_alpha_l1 = l_alpha\n"
   ]
  },
  {
   "cell_type": "code",
   "execution_count": 561,
   "metadata": {},
   "outputs": [
    {
     "name": "stdout",
     "output_type": "stream",
     "text": [
      "The best cnn model with l1 regularization has val acc: 90.44%, train loss: 0.41, val loss: 0.27. At the epoch 12 with the l1 parameter 0.0001\n"
     ]
    }
   ],
   "source": [
    "print(f\"The best cnn model with l1 regularization has val acc: {100*best_val_acc_cnnnet_l1:.2f}%, train loss: {best_train_loss_cnnnet_l1:.2f}, val loss: {best_val_loss_cnnnet_l1:.2f}. At the epoch {best_epoch_cnnnet_l1} with the l1 parameter {best_alpha_l1}\")"
   ]
  },
  {
   "cell_type": "markdown",
   "metadata": {},
   "source": [
    "---"
   ]
  },
  {
   "cell_type": "markdown",
   "metadata": {},
   "source": [
    "# Choosing the best model + data evaluation"
   ]
  },
  {
   "cell_type": "code",
   "execution_count": 567,
   "metadata": {},
   "outputs": [
    {
     "name": "stdout",
     "output_type": "stream",
     "text": [
      "As the best model I choose cnn with no regularization and params: {'activation': 'ReLU', 'optimizer': 'Adam', 'lr': 0.001}; {'width': 128, 'depth': 3, 'preprocessing': 'standardize'} at epoch 11, as it has shown the best validation accuracy: 94.09% and the train/val loss: 0.11/0.21\n"
     ]
    }
   ],
   "source": [
    "print(f\"As the best model I choose cnn with no regularization and params: {best_config_cnnnet_bet}; {best_config_cnnnet} at epoch {best_epoch_cnnnet_bet}, as it has shown the best validation accuracy: {100*best_val_acc_cnnnet_bet:.2f}% and the train/val loss: {best_train_loss_cnnnet_bet:.2f}/{best_val_loss_cnnnet_bet:.2f}\")"
   ]
  },
  {
   "cell_type": "code",
   "execution_count": 569,
   "metadata": {},
   "outputs": [],
   "source": [
    "train_dataset_cnn = CnnTabularDataset(df_train, transform=standardize_transform, image_size=32)\n",
    "val_dataset_cnn = CnnTabularDataset(df_val, transform=standardize_transform, image_size=32)\n",
    "    \n",
    "training_loader = torch.utils.data.DataLoader(train_dataset_cnn, batch_size=32, shuffle=True)\n",
    "validation_loader = torch.utils.data.DataLoader(val_dataset_cnn, batch_size=128, shuffle=False)\n",
    "\n",
    "best_model = ConvNet(depth=3, width=128, activation=nn.ReLU())\n",
    "optimizer = torch.optim.Adam(best_model.parameters(), lr=0.001)\n",
    "\n",
    "num_epochs = 11\n",
    "\n",
    "for epoch in range(num_epochs):\n",
    "    train_acc, train_loss = one_epoch(best_model, loss_fn, optimizer, training_loader)\n",
    "    val_acc, val_loss = eval_one_epoch(best_model, loss_fn, validation_loader)"
   ]
  },
  {
   "cell_type": "markdown",
   "metadata": {},
   "source": [
    "Result on the test data:"
   ]
  },
  {
   "cell_type": "code",
   "execution_count": 572,
   "metadata": {},
   "outputs": [],
   "source": [
    "test_dataset_cnn = CnnTabularDataset(df_test, transform=standardize_transform, image_size=32)\n",
    "test_loader = torch.utils.data.DataLoader(test_dataset_cnn, batch_size=128, shuffle=False)"
   ]
  },
  {
   "cell_type": "code",
   "execution_count": 590,
   "metadata": {},
   "outputs": [
    {
     "name": "stderr",
     "output_type": "stream",
     "text": [
      "100%|█████████████████████████████████████████████████████████████████████████████████████████████████████████████████████████████| 83/83 [00:03<00:00, 22.08it/s]"
     ]
    },
    {
     "name": "stdout",
     "output_type": "stream",
     "text": [
      "Test accuracy: 0.932952380952381, so we can expect this accuracy on new data\n"
     ]
    },
    {
     "name": "stderr",
     "output_type": "stream",
     "text": [
      "\n"
     ]
    }
   ],
   "source": [
    "test_predictions = np.zeros(len(test_dataset_cnn))\n",
    "test_y = np.zeros(len(test_dataset_cnn))\n",
    "ii = 0\n",
    "for vdata in tqdm(test_loader):\n",
    "    vinputs, vlabels = vdata\n",
    "    with torch.no_grad():\n",
    "        voutputs = best_model(vinputs)\n",
    "        vloss = loss_fn(voutputs, vlabels)\n",
    "    test_predictions[ii:(ii + vinputs.shape[0])] = voutputs.argmax(1).numpy()\n",
    "    test_y[ii:(ii + vinputs.shape[0])] = vlabels.numpy()\n",
    "    ii += vinputs.shape[0]\n",
    "    \n",
    "print(f\"Test accuracy: {accuracy_score(test_y, test_predictions)}, so we can expect this accuracy on new data\")"
   ]
  },
  {
   "cell_type": "code",
   "execution_count": 591,
   "metadata": {},
   "outputs": [
    {
     "data": {
      "image/png": "[encoded data removed]",
      "text/plain": [
       "<Figure size 640x480 with 2 Axes>"
      ]
     },
     "metadata": {},
     "output_type": "display_data"
    }
   ],
   "source": [
    "cnf_matrix = confusion_matrix(test_y, test_predictions)\n",
    "disp = ConfusionMatrixDisplay(confusion_matrix=cnf_matrix)\n",
    "disp.plot()\n",
    "plt.show()"
   ]
  },
  {
   "cell_type": "markdown",
   "metadata": {},
   "source": [
    "With the confusion matrix we see, that classes are well balanced, the model shows pretty good results"
   ]
  },
  {
   "cell_type": "markdown",
   "metadata": {},
   "source": [
    "---"
   ]
  },
  {
   "cell_type": "markdown",
   "metadata": {},
   "source": [
    "## Predictions on new data:"
   ]
  },
  {
   "cell_type": "code",
   "execution_count": 622,
   "metadata": {},
   "outputs": [],
   "source": [
    "res = pd.read_csv(\"evaluate.csv\")"
   ]
  },
  {
   "cell_type": "code",
   "execution_count": 623,
   "metadata": {},
   "outputs": [
    {
     "data": {
      "text/plain": [
       "np.int64(0)"
      ]
     },
     "execution_count": 623,
     "metadata": {},
     "output_type": "execute_result"
    }
   ],
   "source": [
    "res.isna().sum().sum()"
   ]
  },
  {
   "cell_type": "code",
   "execution_count": 624,
   "metadata": {},
   "outputs": [],
   "source": [
    "ids = res.iloc[:,:1]\n",
    "new_data = res.iloc[:,1:]"
   ]
  },
  {
   "cell_type": "code",
   "execution_count": 625,
   "metadata": {},
   "outputs": [],
   "source": [
    "class CnnTabularDatasetT(torch.utils.data.Dataset):\n",
    "    def __init__(self, df, transform=None, image_size=32, label_column=\"label\"):\n",
    "        self.has_labels = label_column in df.columns\n",
    "        self.X = torch.tensor(\n",
    "            df.drop(columns=label_column, errors=\"ignore\").values, dtype=torch.float32\n",
    "        )\n",
    "        if self.has_labels:\n",
    "            self.y = torch.tensor(df[label_column].values, dtype=torch.long)\n",
    "        else:\n",
    "            self.y = None\n",
    "\n",
    "        self.transform = transform\n",
    "        self.image_size = image_size\n",
    "\n",
    "    def __len__(self):\n",
    "        return len(self.X)\n",
    "\n",
    "    def __getitem__(self, idx):\n",
    "        x = self.X[idx]\n",
    "    \n",
    "        if self.transform:\n",
    "            x = self.transform(x)\n",
    "    \n",
    "        img = x.reshape(1, self.image_size, self.image_size)\n",
    "    \n",
    "        if self.y is not None:\n",
    "            return img, self.y[idx]\n",
    "        else:\n",
    "            return img\n"
   ]
  },
  {
   "cell_type": "code",
   "execution_count": 626,
   "metadata": {},
   "outputs": [],
   "source": [
    "eval_dataset = CnnTabularDatasetT(new_data, transform=standardize_transform, image_size=32)\n",
    "eval_loader = torch.utils.data.DataLoader(eval_dataset, batch_size=128, shuffle=False)"
   ]
  },
  {
   "cell_type": "code",
   "execution_count": 631,
   "metadata": {},
   "outputs": [],
   "source": [
    "all_preds = []\n",
    "\n",
    "best_model.eval()\n",
    "with torch.no_grad():\n",
    "    for vinputs in eval_loader:\n",
    "        if isinstance(vinputs, (tuple, list)):\n",
    "            vinputs = vinputs[0]\n",
    "        voutputs = best_model(vinputs)\n",
    "        preds = voutputs.argmax(1).numpy()\n",
    "        all_preds.extend(preds)\n",
    "\n",
    "results_df = pd.DataFrame({\"ID\": ids.squeeze(), \"label\": all_preds})"
   ]
  },
  {
   "cell_type": "code",
   "execution_count": 632,
   "metadata": {},
   "outputs": [],
   "source": [
    "results_df.to_csv(\"results.csv\", index = False)"
   ]
  },
  {
   "cell_type": "markdown",
   "metadata": {},
   "source": [
    "I would like to note, that a great thing would be to set a seed for the random shuffling or also a great option would be to save the best model. It would keep the consistence, but regretably, I noticed it too late and hadn't time to change it. Though it looks like at the end, the resul model is good"
   ]
  },
  {
   "cell_type": "markdown",
   "metadata": {},
   "source": [
    "# THE END"
   ]
  }
 ],
 "metadata": {
  "kernelspec": {
   "display_name": "Python 3 (ipykernel)",
   "language": "python",
   "name": "python3"
  },
  "language_info": {
   "codemirror_mode": {
    "name": "ipython",
    "version": 3
   },
   "file_extension": ".py",
   "mimetype": "text/x-python",
   "name": "python",
   "nbconvert_exporter": "python",
   "pygments_lexer": "ipython3",
   "version": "3.13.2"
  }
 },
 "nbformat": 4,
 "nbformat_minor": 4
}
