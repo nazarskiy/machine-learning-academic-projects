{
 "cells": [
  {
   "cell_type": "markdown",
   "id": "54514b38-9209-46e7-afca-3c3e27b2a99e",
   "metadata": {},
   "source": [
    "# Úkol č. 1 - předzpracování dat a binární klasifikace\n",
    "\n",
    "* Termíny jsou uvedeny na [courses.fit.cvut.cz/BI-ML1/homeworks/index.html](https://courses.fit.cvut.cz/BI-ML1/homeworks/index.html).\n",
    "* Pokud odevzdáte úkol po prvním termínu ale před nejzazším termínem, budete penalizování -12 body, pozdější odevzdání je bez bodu.\n",
    "* V rámci tohoto úkolu se musíte vypořádat s klasifikační úlohou s příznaky různých typů a s chybějícími hodnotami.\n",
    "* Před tím, než na nich postavíte predikční model, je třeba je nějakým způsobem převést do číselné reprezentace.\n",
    "    \n",
    "> **Úkoly jsou zadány tak, aby Vám daly prostor pro invenci. Vymyslet _jak přesně_ budete úkol řešit, je důležitou součástí zadání a originalita či nápaditost bude také hodnocena!**\n",
    "\n",
    "Využívejte buňky typu `Markdown` k vysvětlování Vašeho postupu. Za nepřehlednost budeme strhávat body.\n",
    "\n",
    "## Zdroj dat\n",
    "\n",
    "Budeme se zabývat predikcí přežití pasažérů Titaniku.\n",
    "K dispozici máte trénovací data v souboru `data.csv` a data na vyhodnocení v souboru `evaluation.csv`.\n",
    "\n",
    "#### Seznam příznaků:\n",
    "* survived - zda pasažér přežil, 0 = Ne, 1 = Ano; **vysvětlovaná proměnná**, kterou chcete predikovat\n",
    "* pclass - Třída lodního lístku, 1 = první, 2 = druhá, 3 = třetí\n",
    "* name - jméno\n",
    "* sex - pohlaví\n",
    "* age - věk v letech\n",
    "* sibsp\t- počet sourozenců / manželů, manželek na palubě\n",
    "* parch - počet rodičů / dětí na palubě\n",
    "* ticket - číslo lodního lístku\n",
    "* fare - cena lodního lístku\n",
    "* cabin\t- číslo kajuty\n",
    "* embarked\t- místo nalodění, C = Cherbourg, Q = Queenstown, S = Southampton\n",
    "* home.dest - Bydliště/Cíl\n",
    "\n",
    "## Pokyny k vypracování\n",
    "\n",
    "**Body zadání**, za jejichž (poctivé) vypracování získáte **25 bodů**: \n",
    "  * V notebooku načtěte data ze souboru `data.csv`. Vhodným způsobem si je rozdělte na podmnožiny, které Vám poslouží pro trénování (trénovací), porovnávání modelů (validační) a následnou predikci výkonnosti finálního modelu (testovací).\n",
    "    \n",
    "  * Proveďte základní předzpracování dat:\n",
    "    * Projděte si jednotlivé příznaky a transformujte je do vhodné podoby pro použití ve vybraném klasifikačním modelu.\n",
    "    * Podle potřeby si můžete vytvářet nové příznaky (na základě existujících), například tedy můžete vytvořit příznak měřící délku jména atp.\n",
    "    * Některé příznaky můžete také úplně zahodit.\n",
    "    * Nějakým způsobem (klidně triviálním) se vypořádejte s chybějícími hodnotami. Není potřeba používat sofistikované metody. _Hlavně pozor na metodické chyby!_\n",
    "    * Můžete využívat i vizualizace a vše stručně ale náležitě komentujte.\n",
    "\n",
    "  \n",
    "  * Na připravená data postupně aplikujte **rozhodovací strom** a **metodu nejbližších sousedů**, přičemž pro každý z těchto modelů:\n",
    "    * Okomentujte vhodnost daného modelu pro daný typ úlohy.\n",
    "    * Vyberte si hlavní hyperparametry k ladění a najděte jejich nejlepší hodnoty.\n",
    "    * Pro model s nejlepšími hodnotami hyperparametrů spočtěte (na validační množině) F1 skóre, nakreslete ROC křivku a určete AUC. _Pozor na metodické chyby!_\n",
    "    * Získané výsledky vždy řádně okomentujte.\n",
    "\n",
    "        \n",
    "  * Ze všech zkoušených možností v předchozím kroku vyberte finální model (jednoznačně popište o který konkrétně jde) a správně odhadněte, jakou **přesnost** můžete očekávat na nových datech, která jste doposud neměli k dispozici. _Pozor na metodické chyby!_\n",
    "    \n",
    "  * Nakonec načtěte vyhodnocovací data ze souboru `evaluation.csv`. Pomocí finálního modelu napočítejte predikce pro tyto data (vysvětlovaná proměnná v nich již není). Vytvořte soubor `results.csv`, ve kterém získané predikce uložíte do sloupce **survived** a identifikátory do sloupce **ID** (dodržte názvy sloupců!). Tento soubor též odevzdejte (uložte do repozitáře vedle notebooku).\n",
    "\n",
    "      * Snažte se vše udělat tak, aby přesnost odevzdaných predikcí na vyhodocovacím datasetu byla alespoň **75%**. Pokud bude menší, přijdete o **3 body**.\n",
    "      * Ukázka, jak by mělo vypadat prvních několik řádků souboru `results.csv` (obecně s jinými hodnotami survived):\n",
    "  \n",
    "```\n",
    "ID,survived\n",
    "1000,0\n",
    "1001,1\n",
    "...\n",
    "```\n",
    "\n",
    "## Poznámky k odevzdání\n",
    "\n",
    "  * Řiďte se pokyny ze stránky https://courses.fit.cvut.cz/BI-ML1/homeworks/index.html.\n",
    "  * Vytvořte i csv soubor `results.csv` s predikcemi a uložte ho v rámci projektu vedle ipython notebooku."
   ]
  },
  {
   "cell_type": "markdown",
   "id": "67b0d9e3-1050-42fe-afbb-871ce70d15b7",
   "metadata": {},
   "source": [
    "# Data preprocessing"
   ]
  },
  {
   "cell_type": "markdown",
   "id": "798013a4-953a-416d-a27e-c5fcd8b57e16",
   "metadata": {},
   "source": [
    "**Import needed libraries**"
   ]
  },
  {
   "cell_type": "code",
   "execution_count": 43,
   "id": "003f7995-4bc0-42d8-a9ac-456638cdd708",
   "metadata": {},
   "outputs": [],
   "source": [
    "import pandas as pd\n",
    "import numpy as np\n",
    "import sklearn\n",
    "from sklearn.tree import DecisionTreeClassifier\n",
    "from sklearn.neighbors import KNeighborsClassifier\n",
    "from sklearn.model_selection import train_test_split\n",
    "from sklearn.model_selection import ParameterGrid\n",
    "from sklearn.metrics import f1_score, roc_curve, auc\n",
    "import sklearn.metrics as metrics\n",
    "from sklearn.model_selection import cross_val_score\n",
    "from sklearn.preprocessing import MinMaxScaler, StandardScaler\n",
    "\n",
    "import matplotlib.pyplot as plt\n",
    "import matplotlib\n",
    "%matplotlib inline\n",
    "\n",
    "random_seed = 58"
   ]
  },
  {
   "cell_type": "markdown",
   "id": "26a07f61-a4f5-489b-b9eb-36fb0b5d7b35",
   "metadata": {},
   "source": [
    "**Read the dataset and display the first few rows**"
   ]
  },
  {
   "cell_type": "code",
   "execution_count": 44,
   "id": "f360ca49-9763-479b-8524-dac41fabfb48",
   "metadata": {},
   "outputs": [
    {
     "data": {
      "text/html": [
       "<div>\n",
       "<style scoped>\n",
       "    .dataframe tbody tr th:only-of-type {\n",
       "        vertical-align: middle;\n",
       "    }\n",
       "\n",
       "    .dataframe tbody tr th {\n",
       "        vertical-align: top;\n",
       "    }\n",
       "\n",
       "    .dataframe thead th {\n",
       "        text-align: right;\n",
       "    }\n",
       "</style>\n",
       "<table border=\"1\" class=\"dataframe\">\n",
       "  <thead>\n",
       "    <tr style=\"text-align: right;\">\n",
       "      <th></th>\n",
       "      <th>ID</th>\n",
       "      <th>survived</th>\n",
       "      <th>pclass</th>\n",
       "      <th>name</th>\n",
       "      <th>sex</th>\n",
       "      <th>age</th>\n",
       "      <th>sibsp</th>\n",
       "      <th>parch</th>\n",
       "      <th>ticket</th>\n",
       "      <th>fare</th>\n",
       "      <th>cabin</th>\n",
       "      <th>embarked</th>\n",
       "      <th>home.dest</th>\n",
       "    </tr>\n",
       "  </thead>\n",
       "  <tbody>\n",
       "    <tr>\n",
       "      <th>0</th>\n",
       "      <td>0</td>\n",
       "      <td>0</td>\n",
       "      <td>2</td>\n",
       "      <td>Baimbrigge, Mr. Charles Robert</td>\n",
       "      <td>male</td>\n",
       "      <td>23.0</td>\n",
       "      <td>0</td>\n",
       "      <td>0</td>\n",
       "      <td>C.A. 31030</td>\n",
       "      <td>10.5000</td>\n",
       "      <td>NaN</td>\n",
       "      <td>S</td>\n",
       "      <td>Guernsey</td>\n",
       "    </tr>\n",
       "    <tr>\n",
       "      <th>1</th>\n",
       "      <td>1</td>\n",
       "      <td>0</td>\n",
       "      <td>3</td>\n",
       "      <td>Aronsson, Mr. Ernst Axel Algot</td>\n",
       "      <td>male</td>\n",
       "      <td>24.0</td>\n",
       "      <td>0</td>\n",
       "      <td>0</td>\n",
       "      <td>349911</td>\n",
       "      <td>7.7750</td>\n",
       "      <td>NaN</td>\n",
       "      <td>S</td>\n",
       "      <td>Sweden Joliet, IL</td>\n",
       "    </tr>\n",
       "    <tr>\n",
       "      <th>2</th>\n",
       "      <td>2</td>\n",
       "      <td>0</td>\n",
       "      <td>3</td>\n",
       "      <td>Novel, Mr. Mansouer</td>\n",
       "      <td>male</td>\n",
       "      <td>28.5</td>\n",
       "      <td>0</td>\n",
       "      <td>0</td>\n",
       "      <td>2697</td>\n",
       "      <td>7.2292</td>\n",
       "      <td>NaN</td>\n",
       "      <td>C</td>\n",
       "      <td>NaN</td>\n",
       "    </tr>\n",
       "    <tr>\n",
       "      <th>3</th>\n",
       "      <td>3</td>\n",
       "      <td>0</td>\n",
       "      <td>3</td>\n",
       "      <td>Osen, Mr. Olaf Elon</td>\n",
       "      <td>male</td>\n",
       "      <td>16.0</td>\n",
       "      <td>0</td>\n",
       "      <td>0</td>\n",
       "      <td>7534</td>\n",
       "      <td>9.2167</td>\n",
       "      <td>NaN</td>\n",
       "      <td>S</td>\n",
       "      <td>NaN</td>\n",
       "    </tr>\n",
       "    <tr>\n",
       "      <th>4</th>\n",
       "      <td>4</td>\n",
       "      <td>1</td>\n",
       "      <td>2</td>\n",
       "      <td>Navratil, Master. Michel M</td>\n",
       "      <td>male</td>\n",
       "      <td>3.0</td>\n",
       "      <td>1</td>\n",
       "      <td>1</td>\n",
       "      <td>230080</td>\n",
       "      <td>26.0000</td>\n",
       "      <td>F2</td>\n",
       "      <td>S</td>\n",
       "      <td>Nice, France</td>\n",
       "    </tr>\n",
       "  </tbody>\n",
       "</table>\n",
       "</div>"
      ],
      "text/plain": [
       "   ID  survived  pclass                            name   sex   age  sibsp  \\\n",
       "0   0         0       2  Baimbrigge, Mr. Charles Robert  male  23.0      0   \n",
       "1   1         0       3  Aronsson, Mr. Ernst Axel Algot  male  24.0      0   \n",
       "2   2         0       3             Novel, Mr. Mansouer  male  28.5      0   \n",
       "3   3         0       3             Osen, Mr. Olaf Elon  male  16.0      0   \n",
       "4   4         1       2      Navratil, Master. Michel M  male   3.0      1   \n",
       "\n",
       "   parch      ticket     fare cabin embarked          home.dest  \n",
       "0      0  C.A. 31030  10.5000   NaN        S           Guernsey  \n",
       "1      0      349911   7.7750   NaN        S  Sweden Joliet, IL  \n",
       "2      0        2697   7.2292   NaN        C                NaN  \n",
       "3      0        7534   9.2167   NaN        S                NaN  \n",
       "4      1      230080  26.0000    F2        S       Nice, France  "
      ]
     },
     "metadata": {},
     "output_type": "display_data"
    }
   ],
   "source": [
    "df = pd.read_csv(\"data.csv\")\n",
    "display(df.head())"
   ]
  },
  {
   "cell_type": "markdown",
   "id": "9faddeae-66c9-4cb9-a5fe-e1bf4a89c8d0",
   "metadata": {},
   "source": [
    "**Display the num of unique values for each column**"
   ]
  },
  {
   "cell_type": "code",
   "execution_count": 45,
   "id": "131134f0-b9f6-494f-a075-2bed798a8659",
   "metadata": {},
   "outputs": [
    {
     "data": {
      "text/plain": [
       "ID           1000\n",
       "survived        2\n",
       "pclass          3\n",
       "name          998\n",
       "sex             2\n",
       "age            93\n",
       "sibsp           7\n",
       "parch           8\n",
       "ticket        747\n",
       "fare          260\n",
       "cabin         155\n",
       "embarked        3\n",
       "home.dest     308\n",
       "dtype: int64"
      ]
     },
     "metadata": {},
     "output_type": "display_data"
    }
   ],
   "source": [
    "display(df.nunique())"
   ]
  },
  {
   "cell_type": "markdown",
   "id": "4fd404a5-518b-43da-8c2e-48c4619e05a4",
   "metadata": {},
   "source": [
    "**Display the number of missing values in each column**"
   ]
  },
  {
   "cell_type": "code",
   "execution_count": 46,
   "id": "2bcaa745-fec7-4025-9576-0074290d106d",
   "metadata": {},
   "outputs": [
    {
     "name": "stdout",
     "output_type": "stream",
     "text": [
      "in ID num of missng values is 0\n",
      "in survived num of missng values is 0\n",
      "in pclass num of missng values is 0\n",
      "in name num of missng values is 0\n",
      "in sex num of missng values is 0\n",
      "in age num of missng values is 204\n",
      "in sibsp num of missng values is 0\n",
      "in parch num of missng values is 0\n",
      "in ticket num of missng values is 0\n",
      "in fare num of missng values is 0\n",
      "in cabin num of missng values is 775\n",
      "in embarked num of missng values is 0\n",
      "in home.dest num of missng values is 427\n"
     ]
    }
   ],
   "source": [
    "for col in df:\n",
    "    missing_count = df[col].isna().sum()\n",
    "    print(\"in %s num of missng values is %d\" % (col, missing_count))"
   ]
  },
  {
   "cell_type": "markdown",
   "id": "01242482-43d3-4e5b-838c-69f99accb7d8",
   "metadata": {},
   "source": [
    "**Dropping useless columns**"
   ]
  },
  {
   "cell_type": "code",
   "execution_count": 47,
   "id": "1aa80e4b-de35-49f8-9dab-287ab71656c1",
   "metadata": {},
   "outputs": [
    {
     "data": {
      "text/html": [
       "<div>\n",
       "<style scoped>\n",
       "    .dataframe tbody tr th:only-of-type {\n",
       "        vertical-align: middle;\n",
       "    }\n",
       "\n",
       "    .dataframe tbody tr th {\n",
       "        vertical-align: top;\n",
       "    }\n",
       "\n",
       "    .dataframe thead th {\n",
       "        text-align: right;\n",
       "    }\n",
       "</style>\n",
       "<table border=\"1\" class=\"dataframe\">\n",
       "  <thead>\n",
       "    <tr style=\"text-align: right;\">\n",
       "      <th></th>\n",
       "      <th>survived</th>\n",
       "      <th>pclass</th>\n",
       "      <th>sex</th>\n",
       "      <th>age</th>\n",
       "      <th>sibsp</th>\n",
       "      <th>parch</th>\n",
       "      <th>fare</th>\n",
       "      <th>embarked</th>\n",
       "    </tr>\n",
       "  </thead>\n",
       "  <tbody>\n",
       "    <tr>\n",
       "      <th>0</th>\n",
       "      <td>0</td>\n",
       "      <td>2</td>\n",
       "      <td>male</td>\n",
       "      <td>23.0</td>\n",
       "      <td>0</td>\n",
       "      <td>0</td>\n",
       "      <td>10.5000</td>\n",
       "      <td>S</td>\n",
       "    </tr>\n",
       "    <tr>\n",
       "      <th>1</th>\n",
       "      <td>0</td>\n",
       "      <td>3</td>\n",
       "      <td>male</td>\n",
       "      <td>24.0</td>\n",
       "      <td>0</td>\n",
       "      <td>0</td>\n",
       "      <td>7.7750</td>\n",
       "      <td>S</td>\n",
       "    </tr>\n",
       "    <tr>\n",
       "      <th>2</th>\n",
       "      <td>0</td>\n",
       "      <td>3</td>\n",
       "      <td>male</td>\n",
       "      <td>28.5</td>\n",
       "      <td>0</td>\n",
       "      <td>0</td>\n",
       "      <td>7.2292</td>\n",
       "      <td>C</td>\n",
       "    </tr>\n",
       "    <tr>\n",
       "      <th>3</th>\n",
       "      <td>0</td>\n",
       "      <td>3</td>\n",
       "      <td>male</td>\n",
       "      <td>16.0</td>\n",
       "      <td>0</td>\n",
       "      <td>0</td>\n",
       "      <td>9.2167</td>\n",
       "      <td>S</td>\n",
       "    </tr>\n",
       "    <tr>\n",
       "      <th>4</th>\n",
       "      <td>1</td>\n",
       "      <td>2</td>\n",
       "      <td>male</td>\n",
       "      <td>3.0</td>\n",
       "      <td>1</td>\n",
       "      <td>1</td>\n",
       "      <td>26.0000</td>\n",
       "      <td>S</td>\n",
       "    </tr>\n",
       "  </tbody>\n",
       "</table>\n",
       "</div>"
      ],
      "text/plain": [
       "   survived  pclass   sex   age  sibsp  parch     fare embarked\n",
       "0         0       2  male  23.0      0      0  10.5000        S\n",
       "1         0       3  male  24.0      0      0   7.7750        S\n",
       "2         0       3  male  28.5      0      0   7.2292        C\n",
       "3         0       3  male  16.0      0      0   9.2167        S\n",
       "4         1       2  male   3.0      1      1  26.0000        S"
      ]
     },
     "execution_count": 47,
     "metadata": {},
     "output_type": "execute_result"
    }
   ],
   "source": [
    "df = df.drop([\"ID\", \"name\", \"ticket\", \"cabin\", \"home.dest\"], axis = 1)\n",
    "df.head()"
   ]
  },
  {
   "cell_type": "markdown",
   "id": "e3976b6e-9223-4e9c-995f-19af7d2e1cdb",
   "metadata": {},
   "source": [
    "**Now check the situation with missed values again (the age will be changed later)**"
   ]
  },
  {
   "cell_type": "code",
   "execution_count": 48,
   "id": "af7fcc92-16fc-4508-a334-174c5331fa97",
   "metadata": {},
   "outputs": [
    {
     "name": "stdout",
     "output_type": "stream",
     "text": [
      "survived is 0\n",
      "pclass is 0\n",
      "sex is 0\n",
      "age is 204\n",
      "sibsp is 0\n",
      "parch is 0\n",
      "fare is 0\n",
      "embarked is 0\n"
     ]
    }
   ],
   "source": [
    "for col in df:\n",
    "    missing_count = df[col].isna().sum()\n",
    "    print(\"%s is %d\" % (col, missing_count))"
   ]
  },
  {
   "cell_type": "markdown",
   "id": "d400a598-c0fb-4723-bdf1-6ec82f518dc3",
   "metadata": {},
   "source": [
    "**Check the situation with the types**"
   ]
  },
  {
   "cell_type": "code",
   "execution_count": 49,
   "id": "ce8dcf6f-8a4b-4b0d-959c-f706a86994d0",
   "metadata": {},
   "outputs": [
    {
     "data": {
      "text/plain": [
       "survived      int64\n",
       "pclass        int64\n",
       "sex          object\n",
       "age         float64\n",
       "sibsp         int64\n",
       "parch         int64\n",
       "fare        float64\n",
       "embarked     object\n",
       "dtype: object"
      ]
     },
     "execution_count": 49,
     "metadata": {},
     "output_type": "execute_result"
    }
   ],
   "source": [
    "df.dtypes"
   ]
  },
  {
   "cell_type": "markdown",
   "id": "284c859a-4d44-4fbf-8dc4-58c4e317bdd6",
   "metadata": {},
   "source": [
    "**Changig all the object types to categorical and giving them the int value**"
   ]
  },
  {
   "cell_type": "code",
   "execution_count": 50,
   "id": "33bc05d7-e267-46cb-9dbd-b189ed6e3613",
   "metadata": {},
   "outputs": [],
   "source": [
    "df[[\"sex\", \"embarked\"]] = df[[\"sex\", \"embarked\"]].apply(lambda x: x.astype(\"category\").cat.codes)"
   ]
  },
  {
   "cell_type": "markdown",
   "id": "95fe8130-89c9-45f3-bb7f-627c61db8bda",
   "metadata": {},
   "source": [
    "**Check the types and DataFrame overlook after changes**"
   ]
  },
  {
   "cell_type": "code",
   "execution_count": 51,
   "id": "7bb9bdec-ae98-4186-99fc-4563e4fe5f16",
   "metadata": {},
   "outputs": [
    {
     "data": {
      "text/plain": [
       "survived      int64\n",
       "pclass        int64\n",
       "sex            int8\n",
       "age         float64\n",
       "sibsp         int64\n",
       "parch         int64\n",
       "fare        float64\n",
       "embarked       int8\n",
       "dtype: object"
      ]
     },
     "metadata": {},
     "output_type": "display_data"
    },
    {
     "data": {
      "text/html": [
       "<div>\n",
       "<style scoped>\n",
       "    .dataframe tbody tr th:only-of-type {\n",
       "        vertical-align: middle;\n",
       "    }\n",
       "\n",
       "    .dataframe tbody tr th {\n",
       "        vertical-align: top;\n",
       "    }\n",
       "\n",
       "    .dataframe thead th {\n",
       "        text-align: right;\n",
       "    }\n",
       "</style>\n",
       "<table border=\"1\" class=\"dataframe\">\n",
       "  <thead>\n",
       "    <tr style=\"text-align: right;\">\n",
       "      <th></th>\n",
       "      <th>survived</th>\n",
       "      <th>pclass</th>\n",
       "      <th>sex</th>\n",
       "      <th>age</th>\n",
       "      <th>sibsp</th>\n",
       "      <th>parch</th>\n",
       "      <th>fare</th>\n",
       "      <th>embarked</th>\n",
       "    </tr>\n",
       "  </thead>\n",
       "  <tbody>\n",
       "    <tr>\n",
       "      <th>0</th>\n",
       "      <td>0</td>\n",
       "      <td>2</td>\n",
       "      <td>1</td>\n",
       "      <td>23.0</td>\n",
       "      <td>0</td>\n",
       "      <td>0</td>\n",
       "      <td>10.5000</td>\n",
       "      <td>2</td>\n",
       "    </tr>\n",
       "    <tr>\n",
       "      <th>1</th>\n",
       "      <td>0</td>\n",
       "      <td>3</td>\n",
       "      <td>1</td>\n",
       "      <td>24.0</td>\n",
       "      <td>0</td>\n",
       "      <td>0</td>\n",
       "      <td>7.7750</td>\n",
       "      <td>2</td>\n",
       "    </tr>\n",
       "    <tr>\n",
       "      <th>2</th>\n",
       "      <td>0</td>\n",
       "      <td>3</td>\n",
       "      <td>1</td>\n",
       "      <td>28.5</td>\n",
       "      <td>0</td>\n",
       "      <td>0</td>\n",
       "      <td>7.2292</td>\n",
       "      <td>0</td>\n",
       "    </tr>\n",
       "    <tr>\n",
       "      <th>3</th>\n",
       "      <td>0</td>\n",
       "      <td>3</td>\n",
       "      <td>1</td>\n",
       "      <td>16.0</td>\n",
       "      <td>0</td>\n",
       "      <td>0</td>\n",
       "      <td>9.2167</td>\n",
       "      <td>2</td>\n",
       "    </tr>\n",
       "    <tr>\n",
       "      <th>4</th>\n",
       "      <td>1</td>\n",
       "      <td>2</td>\n",
       "      <td>1</td>\n",
       "      <td>3.0</td>\n",
       "      <td>1</td>\n",
       "      <td>1</td>\n",
       "      <td>26.0000</td>\n",
       "      <td>2</td>\n",
       "    </tr>\n",
       "  </tbody>\n",
       "</table>\n",
       "</div>"
      ],
      "text/plain": [
       "   survived  pclass  sex   age  sibsp  parch     fare  embarked\n",
       "0         0       2    1  23.0      0      0  10.5000         2\n",
       "1         0       3    1  24.0      0      0   7.7750         2\n",
       "2         0       3    1  28.5      0      0   7.2292         0\n",
       "3         0       3    1  16.0      0      0   9.2167         2\n",
       "4         1       2    1   3.0      1      1  26.0000         2"
      ]
     },
     "metadata": {},
     "output_type": "display_data"
    }
   ],
   "source": [
    "display(df.dtypes)\n",
    "display(df.head())"
   ]
  },
  {
   "cell_type": "markdown",
   "id": "cd0fc3e1-c751-4cc9-ae4c-f65b9b9ee733",
   "metadata": {},
   "source": [
    "**Split up the df**"
   ]
  },
  {
   "cell_type": "code",
   "execution_count": 52,
   "id": "25f2df8e-3d78-4fe4-8fbd-21ebae747ca0",
   "metadata": {},
   "outputs": [
    {
     "data": {
      "text/html": [
       "<div>\n",
       "<style scoped>\n",
       "    .dataframe tbody tr th:only-of-type {\n",
       "        vertical-align: middle;\n",
       "    }\n",
       "\n",
       "    .dataframe tbody tr th {\n",
       "        vertical-align: top;\n",
       "    }\n",
       "\n",
       "    .dataframe thead th {\n",
       "        text-align: right;\n",
       "    }\n",
       "</style>\n",
       "<table border=\"1\" class=\"dataframe\">\n",
       "  <thead>\n",
       "    <tr style=\"text-align: right;\">\n",
       "      <th></th>\n",
       "      <th>pclass</th>\n",
       "      <th>sex</th>\n",
       "      <th>age</th>\n",
       "      <th>sibsp</th>\n",
       "      <th>parch</th>\n",
       "      <th>fare</th>\n",
       "      <th>embarked</th>\n",
       "    </tr>\n",
       "  </thead>\n",
       "  <tbody>\n",
       "    <tr>\n",
       "      <th>0</th>\n",
       "      <td>2</td>\n",
       "      <td>1</td>\n",
       "      <td>23.0</td>\n",
       "      <td>0</td>\n",
       "      <td>0</td>\n",
       "      <td>10.5000</td>\n",
       "      <td>2</td>\n",
       "    </tr>\n",
       "    <tr>\n",
       "      <th>1</th>\n",
       "      <td>3</td>\n",
       "      <td>1</td>\n",
       "      <td>24.0</td>\n",
       "      <td>0</td>\n",
       "      <td>0</td>\n",
       "      <td>7.7750</td>\n",
       "      <td>2</td>\n",
       "    </tr>\n",
       "    <tr>\n",
       "      <th>2</th>\n",
       "      <td>3</td>\n",
       "      <td>1</td>\n",
       "      <td>28.5</td>\n",
       "      <td>0</td>\n",
       "      <td>0</td>\n",
       "      <td>7.2292</td>\n",
       "      <td>0</td>\n",
       "    </tr>\n",
       "    <tr>\n",
       "      <th>3</th>\n",
       "      <td>3</td>\n",
       "      <td>1</td>\n",
       "      <td>16.0</td>\n",
       "      <td>0</td>\n",
       "      <td>0</td>\n",
       "      <td>9.2167</td>\n",
       "      <td>2</td>\n",
       "    </tr>\n",
       "    <tr>\n",
       "      <th>4</th>\n",
       "      <td>2</td>\n",
       "      <td>1</td>\n",
       "      <td>3.0</td>\n",
       "      <td>1</td>\n",
       "      <td>1</td>\n",
       "      <td>26.0000</td>\n",
       "      <td>2</td>\n",
       "    </tr>\n",
       "  </tbody>\n",
       "</table>\n",
       "</div>"
      ],
      "text/plain": [
       "   pclass  sex   age  sibsp  parch     fare  embarked\n",
       "0       2    1  23.0      0      0  10.5000         2\n",
       "1       3    1  24.0      0      0   7.7750         2\n",
       "2       3    1  28.5      0      0   7.2292         0\n",
       "3       3    1  16.0      0      0   9.2167         2\n",
       "4       2    1   3.0      1      1  26.0000         2"
      ]
     },
     "metadata": {},
     "output_type": "display_data"
    },
    {
     "data": {
      "text/plain": [
       "0    0\n",
       "1    0\n",
       "2    0\n",
       "3    0\n",
       "4    1\n",
       "Name: survived, dtype: int64"
      ]
     },
     "metadata": {},
     "output_type": "display_data"
    }
   ],
   "source": [
    "Xdata = df.drop(\"survived\", axis = 1)\n",
    "ydata = df[\"survived\"]\n",
    "display(Xdata.head())\n",
    "display(ydata.head())"
   ]
  },
  {
   "cell_type": "markdown",
   "id": "ada5fbdb-e329-44f5-871b-bf929e5fdc38",
   "metadata": {},
   "source": [
    "# Application of the Decision Tree Classifier and KNN"
   ]
  },
  {
   "cell_type": "markdown",
   "id": "e88b30f6-d037-4dea-a557-0e678ef8d229",
   "metadata": {},
   "source": [
    "**Split up the data into the training (0.8%) and testing (0.2%)**"
   ]
  },
  {
   "cell_type": "code",
   "execution_count": 53,
   "id": "f275c338-d8db-449b-bfe1-82594401bf1e",
   "metadata": {},
   "outputs": [],
   "source": [
    "Xtrain, Xtest, ytrain, ytest = train_test_split(Xdata, ydata, test_size = 0.2, random_state = random_seed)"
   ]
  },
  {
   "cell_type": "markdown",
   "id": "e7b19f8e-1155-4f60-aaf2-ae6b94bd69cb",
   "metadata": {},
   "source": [
    "Finding the mean for the age column and replacing it with missing values in that column"
   ]
  },
  {
   "cell_type": "code",
   "execution_count": 54,
   "id": "6ddd785b-a517-42c6-a262-a28af133170d",
   "metadata": {},
   "outputs": [
    {
     "name": "stdout",
     "output_type": "stream",
     "text": [
      "29.96617037617555\n",
      "---\n",
      "29.60759493670886\n"
     ]
    }
   ],
   "source": [
    "age_median_train = Xtrain[\"age\"].mean()\n",
    "print(age_median_train)\n",
    "Xtrain[\"age\"] = Xtrain[\"age\"].replace(np.nan, age_median_train)\n",
    "print(\"---\")\n",
    "age_median_train = Xtest[\"age\"].mean()\n",
    "print(age_median_train)\n",
    "Xtest[\"age\"] = Xtest[\"age\"].replace(np.nan, age_median_train)"
   ]
  },
  {
   "cell_type": "markdown",
   "id": "9df53cd2-a515-41b4-b6f0-905712c8771f",
   "metadata": {},
   "source": [
    "**The param grid for the Tree**"
   ]
  },
  {
   "cell_type": "code",
   "execution_count": 55,
   "id": "69bf4ec6-9118-4014-8eba-d5aa88a5f60c",
   "metadata": {},
   "outputs": [],
   "source": [
    "param_grid = {\n",
    "    \"max_depth\": range(1, 11), \n",
    "    \"criterion\": [\"entropy\", \"gini\"],\n",
    "    \"min_samples_leaf\": list(range(1, 5))\n",
    "}\n",
    "param_comb = ParameterGrid(param_grid)"
   ]
  },
  {
   "cell_type": "markdown",
   "id": "9324906d-bc56-46a6-a6a7-6f97124fadf1",
   "metadata": {},
   "source": [
    "**Decision Tree**"
   ]
  },
  {
   "cell_type": "markdown",
   "id": "98011bbc-9e2e-4f06-aad3-f4ad567f6120",
   "metadata": {},
   "source": [
    "Decision tree effectively handles both categorical and numerical features. Its interpretability makes it easy to understand which features influence the survival outcome, aligning well with the dataset's structure."
   ]
  },
  {
   "cell_type": "markdown",
   "id": "543993a1-3f20-4695-b9d4-d2085d3296eb",
   "metadata": {},
   "source": [
    "**Training the Decision Tree**"
   ]
  },
  {
   "cell_type": "code",
   "execution_count": 56,
   "id": "e9cf4d97-66be-4876-b652-c9433264874b",
   "metadata": {},
   "outputs": [],
   "source": [
    "val_metric = []\n",
    "for params in param_comb:\n",
    "    t_clf = DecisionTreeClassifier(**params, random_state = random_seed) # create a tree with the current parameters\n",
    "    curr_split = cross_val_score(t_clf, Xtrain, ytrain, cv = 6) # perform 6-fold cross-validation\n",
    "    val_metric.append(np.mean(curr_split))"
   ]
  },
  {
   "cell_type": "markdown",
   "id": "cdd9dc94-168c-46ef-b257-e640ed09f519",
   "metadata": {},
   "source": [
    "**Finding the best parameters and result for the Decision Tree**"
   ]
  },
  {
   "cell_type": "code",
   "execution_count": 57,
   "id": "7259fd3a-17b7-4402-b141-84ca4e951983",
   "metadata": {},
   "outputs": [
    {
     "name": "stdout",
     "output_type": "stream",
     "text": [
      "The best result is 0.8162 with the parameters {'min_samples_leaf': 1, 'max_depth': 3, 'criterion': 'entropy'}.\n"
     ]
    }
   ],
   "source": [
    "best_tree_params = param_comb[np.argmax(val_metric)] # best params are at param_comb at [index of the max value]\n",
    "best_tree_result = max(val_metric)\n",
    "print(f\"The best result is {best_tree_result:.4f} with the parameters {best_tree_params}.\")"
   ]
  },
  {
   "cell_type": "markdown",
   "id": "8b6d875d-fc70-4d40-90d5-d7e5f26575b1",
   "metadata": {},
   "source": [
    "**Creating the best Decision Tree model**"
   ]
  },
  {
   "cell_type": "code",
   "execution_count": 58,
   "id": "92bd8c73-0edf-451a-a67f-6c7802184509",
   "metadata": {},
   "outputs": [],
   "source": [
    "best_tree = DecisionTreeClassifier(**best_tree_params, random_state = random_seed).fit(Xtrain, ytrain)"
   ]
  },
  {
   "cell_type": "markdown",
   "id": "5ce9aaf5-0223-4b09-932a-794dd3b16be2",
   "metadata": {},
   "source": [
    "**F1 score for the Desicion Tree**"
   ]
  },
  {
   "cell_type": "code",
   "execution_count": 59,
   "id": "73860f5e-16ec-4851-a285-049b10fa59ed",
   "metadata": {},
   "outputs": [
    {
     "name": "stdout",
     "output_type": "stream",
     "text": [
      "Decision Tree F1 Score: 0.7397\n"
     ]
    }
   ],
   "source": [
    "pred_tree = best_tree.predict(Xtest)\n",
    "tree_f1_score = f1_score(ytest, pred_tree)\n",
    "print(f\"Decision Tree F1 Score: {tree_f1_score:.4f}\")"
   ]
  },
  {
   "cell_type": "markdown",
   "id": "b3632425-9334-4d2d-a844-40d31ad190f9",
   "metadata": {},
   "source": [
    "**ROC and AUC for the Decision Tree**"
   ]
  },
  {
   "cell_type": "code",
   "execution_count": 60,
   "id": "eca50e4e-8e2a-4470-9b86-7fb5e56b2478",
   "metadata": {},
   "outputs": [
    {
     "data": {
      "image/png": "[encoded data removed]",
      "text/plain": [
       "<Figure size 640x480 with 1 Axes>"
      ]
     },
     "metadata": {},
     "output_type": "display_data"
    }
   ],
   "source": [
    "tree_proba = best_tree.predict_proba(Xtest)[:, 1] # Get the predicted probabilities for the survived\n",
    "fpr_tree, tpr_tree, _ = roc_curve(ytest, tree_proba) # Calculate the false positive rate and true positive rate for various threshold values\n",
    "tree_auc = metrics.roc_auc_score(ytest, tree_proba) # Compute the AUC for the ROC\n",
    "\n",
    "plt.figure()\n",
    "plt.plot(fpr_tree, tpr_tree, label = f\"Decision Tree ROC curve (AUC = {tree_auc:.2f})\")\n",
    "plt.plot([0, 1], [0, 1], 'k--')\n",
    "plt.xlim([0.0, 1.0])\n",
    "plt.ylim([0.0, 1.05])\n",
    "plt.xlabel(\"False Positive Rate\")\n",
    "plt.ylabel(\"True Positive Rate\")\n",
    "plt.title(\"ROC Curve for the Decision Tree\")\n",
    "plt.legend(loc = \"lower right\")\n",
    "plt.show()"
   ]
  },
  {
   "cell_type": "markdown",
   "id": "4bdf5239-b35c-43b9-9c4f-651b67927c7e",
   "metadata": {},
   "source": [
    "**KNN**"
   ]
  },
  {
   "cell_type": "markdown",
   "id": "3a2e6393-afe1-492b-9ebc-fae4cb76daab",
   "metadata": {},
   "source": [
    "KNN captures local patterns in the data, making predictions based on the similarity between passengers. Aligning with the dataset's\n",
    "structure and potentially improving prediction accuracy for closely related groups."
   ]
  },
  {
   "cell_type": "markdown",
   "id": "28106735-fdd7-453b-bcd5-a810ab333355",
   "metadata": {},
   "source": [
    "**The param grid for the KNN**"
   ]
  },
  {
   "cell_type": "code",
   "execution_count": 61,
   "id": "15bb64c2-b538-4c7b-9d88-66bf83612ed0",
   "metadata": {},
   "outputs": [],
   "source": [
    "param_grid = {\n",
    "    \"n_neighbors\": range(1, 11), \n",
    "    \"weights\": [\"uniform\", \"distance\"],\n",
    "}\n",
    "param_comb = ParameterGrid(param_grid)"
   ]
  },
  {
   "cell_type": "markdown",
   "id": "4d40b609-c4b4-4ab1-9518-bb22600dafe1",
   "metadata": {},
   "source": [
    "**Define scalers for the data normalization**"
   ]
  },
  {
   "cell_type": "code",
   "execution_count": 62,
   "id": "90c4c2ff-1552-4ed1-a1d2-2dd2809e59f7",
   "metadata": {},
   "outputs": [],
   "source": [
    "scalers = [MinMaxScaler(), StandardScaler()]"
   ]
  },
  {
   "cell_type": "markdown",
   "id": "a50d6e92-7dae-4eb5-94c7-c88318220b90",
   "metadata": {},
   "source": [
    "**Training the KNN**"
   ]
  },
  {
   "cell_type": "code",
   "execution_count": 63,
   "id": "7788218d-6ae6-49a9-8f04-31ebb982ef79",
   "metadata": {},
   "outputs": [
    {
     "name": "stdout",
     "output_type": "stream",
     "text": [
      "For the MinMaxScaler() the best result is 0.8087 with params {'weights': 'uniform', 'n_neighbors': 4}\n",
      "For the StandardScaler() the best result is 0.8099 with params {'weights': 'uniform', 'n_neighbors': 3}\n"
     ]
    }
   ],
   "source": [
    "best_knn_result = 0;\n",
    "bast_scaler = \"\";\n",
    "best_knn_parameters = ParameterGrid(\"\")\n",
    "\n",
    "for scaler in scalers:\n",
    "    val_metric = []\n",
    "    Xtrain_scaled = scaler.fit_transform(Xtrain.copy()) # scale the data depending on the scaler\n",
    "    for params in param_comb:\n",
    "        k_clf = KNeighborsClassifier(**params) # create a knn with current parameters\n",
    "        curr_split = cross_val_score(k_clf, Xtrain_scaled, ytrain, cv = 6) # perform 6-fold cross-validation\n",
    "        val_metric.append(np.mean(curr_split))\n",
    "    best_result = max(val_metric) # best result for the current scaler\n",
    "    best_knn_result = best_result if best_result > best_knn_result else best_knn_result\n",
    "    best_scaler = scaler if best_result == best_knn_result else best_scaler\n",
    "    best_knn_parameters = param_comb[np.argmax(val_metric)] if best_result == best_knn_result else best_knn_parameters\n",
    "    print(f\"For the {scaler} the best result is {best_result:.4f} with params {param_comb[np.argmax(val_metric)]}\")"
   ]
  },
  {
   "cell_type": "markdown",
   "id": "6b3ca987-28a0-4737-92a4-a485fc25381c",
   "metadata": {},
   "source": [
    "**Creating the best KNN model**"
   ]
  },
  {
   "cell_type": "code",
   "execution_count": 64,
   "id": "12386de9-a4c9-4c14-a48c-65b5b56cfe2e",
   "metadata": {},
   "outputs": [],
   "source": [
    "Xtrain_scaled = best_scaler.fit_transform(Xtrain.copy())\n",
    "best_knn = KNeighborsClassifier(**best_knn_parameters).fit(Xtrain_scaled, ytrain)"
   ]
  },
  {
   "cell_type": "markdown",
   "id": "ac804f5a-d4ce-42d6-b5a9-3a71442331fa",
   "metadata": {},
   "source": [
    "**F1 score for the KNN**"
   ]
  },
  {
   "cell_type": "code",
   "execution_count": 65,
   "id": "162e2adb-3423-43a1-97e2-747b7cf41f09",
   "metadata": {},
   "outputs": [
    {
     "name": "stdout",
     "output_type": "stream",
     "text": [
      "KNN F1 Score: 0.7075\n"
     ]
    }
   ],
   "source": [
    "Xtest_scaled = best_scaler.fit_transform(Xtest.copy())\n",
    "\n",
    "pred_knn = best_knn.predict(Xtest_scaled)\n",
    "knn_f1_score = f1_score(ytest, pred_knn)\n",
    "print(f\"KNN F1 Score: {knn_f1_score:.4f}\")"
   ]
  },
  {
   "cell_type": "markdown",
   "id": "5686789a-3674-46b4-ad79-608524a68561",
   "metadata": {},
   "source": [
    "**ROC and AUC for the KNN**"
   ]
  },
  {
   "cell_type": "code",
   "execution_count": 66,
   "id": "62aa7c4b-4ac8-4857-a006-3a533df02728",
   "metadata": {},
   "outputs": [
    {
     "data": {
      "image/png": "[encoded data removed]",
      "text/plain": [
       "<Figure size 640x480 with 1 Axes>"
      ]
     },
     "metadata": {},
     "output_type": "display_data"
    }
   ],
   "source": [
    "Xtest_scaled = best_scaler.fit_transform(Xtest.copy())\n",
    "# similar manipuations as with the Decision Tree\n",
    "knn_proba = best_knn.predict_proba(Xtest_scaled)[:, 1]\n",
    "fpr_knn, tpr_knn, _ = roc_curve(ytest, knn_proba)\n",
    "knn_auc = metrics.roc_auc_score(ytest, knn_proba)\n",
    "\n",
    "plt.figure()\n",
    "plt.plot(fpr_knn, tpr_knn, label=f\"KNN ROC curve (AUC = {knn_auc:.2f})\")\n",
    "plt.plot([0, 1], [0, 1], 'k--')\n",
    "plt.xlim([0.0, 1.0])\n",
    "plt.ylim([0.0, 1.05])\n",
    "plt.xlabel(\"False Positive Rate\")\n",
    "plt.ylabel(\"True Positive Rate\")\n",
    "plt.title(\"ROC Curve for the KNN\")\n",
    "plt.legend(loc = \"lower right\")\n",
    "plt.show()"
   ]
  },
  {
   "cell_type": "markdown",
   "id": "2bbcf0ad-e6e7-46ba-9a5a-115277f8ce05",
   "metadata": {},
   "source": [
    "**Comparing the result of each method**"
   ]
  },
  {
   "cell_type": "code",
   "execution_count": 67,
   "id": "5ee3e8a2-f6f5-4c84-bd67-950579510ddf",
   "metadata": {},
   "outputs": [
    {
     "name": "stdout",
     "output_type": "stream",
     "text": [
      "0.8162\n",
      "0.8099\n"
     ]
    }
   ],
   "source": [
    "print(\"%.04f\" % best_tree_result)\n",
    "print(\"%.04f\" % best_knn_result)"
   ]
  },
  {
   "cell_type": "markdown",
   "id": "1d129cb8-f026-4498-a6a5-03ad27ce1be9",
   "metadata": {},
   "source": [
    "Because the result and other parameters (auc, f1 score) for tree is better I will choose it as final model"
   ]
  },
  {
   "cell_type": "markdown",
   "id": "dbcdf456-10f9-46a0-ab82-9bec48b24204",
   "metadata": {},
   "source": [
    "**Creating the final model**"
   ]
  },
  {
   "cell_type": "code",
   "execution_count": 68,
   "id": "b437ac13-3777-45eb-8ac6-e5b0086167bd",
   "metadata": {},
   "outputs": [],
   "source": [
    "best_clf = DecisionTreeClassifier(**best_tree_params, random_state = random_seed).fit(Xtrain, ytrain)"
   ]
  },
  {
   "cell_type": "markdown",
   "id": "a3169cef-6e55-4f3a-9d3d-c103fb902cba",
   "metadata": {},
   "source": [
    "**Look at the accurace score for the train and test**"
   ]
  },
  {
   "cell_type": "code",
   "execution_count": 69,
   "id": "0e639e72-bc9a-4e72-b1a1-46b7f46f633c",
   "metadata": {},
   "outputs": [
    {
     "name": "stdout",
     "output_type": "stream",
     "text": [
      "Train: 0.8225\n",
      "Test: 0.8100\n"
     ]
    }
   ],
   "source": [
    "print(\"Train: {:.4f}\".format(metrics.accuracy_score(ytrain, best_clf.predict(Xtrain))))\n",
    "print(\"Test: {:.4f}\".format(metrics.accuracy_score(ytest, best_clf.predict(Xtest))))"
   ]
  },
  {
   "cell_type": "markdown",
   "id": "6ce0d5eb-0e73-4e7e-9de8-480ae6ccf4cb",
   "metadata": {},
   "source": [
    "We can expect the accuracy for the data model has never seen to be around 0.81"
   ]
  },
  {
   "cell_type": "markdown",
   "id": "ac8fc45e-246e-4b67-b3c2-bdc907e843b6",
   "metadata": {},
   "source": [
    "# Prediction for the new data"
   ]
  },
  {
   "cell_type": "markdown",
   "id": "fefeb457-453f-4b09-ba39-ae29a84865c1",
   "metadata": {},
   "source": [
    "**Reading and displaying a few first rows for the new data**"
   ]
  },
  {
   "cell_type": "code",
   "execution_count": 79,
   "id": "2c441231-0df3-4bc6-aaa8-729ef5b201b6",
   "metadata": {},
   "outputs": [
    {
     "data": {
      "text/html": [
       "<div>\n",
       "<style scoped>\n",
       "    .dataframe tbody tr th:only-of-type {\n",
       "        vertical-align: middle;\n",
       "    }\n",
       "\n",
       "    .dataframe tbody tr th {\n",
       "        vertical-align: top;\n",
       "    }\n",
       "\n",
       "    .dataframe thead th {\n",
       "        text-align: right;\n",
       "    }\n",
       "</style>\n",
       "<table border=\"1\" class=\"dataframe\">\n",
       "  <thead>\n",
       "    <tr style=\"text-align: right;\">\n",
       "      <th></th>\n",
       "      <th>ID</th>\n",
       "      <th>pclass</th>\n",
       "      <th>name</th>\n",
       "      <th>sex</th>\n",
       "      <th>age</th>\n",
       "      <th>sibsp</th>\n",
       "      <th>parch</th>\n",
       "      <th>ticket</th>\n",
       "      <th>fare</th>\n",
       "      <th>cabin</th>\n",
       "      <th>embarked</th>\n",
       "      <th>home.dest</th>\n",
       "    </tr>\n",
       "  </thead>\n",
       "  <tbody>\n",
       "    <tr>\n",
       "      <th>0</th>\n",
       "      <td>1000</td>\n",
       "      <td>2</td>\n",
       "      <td>Pengelly, Mr. Frederick William</td>\n",
       "      <td>male</td>\n",
       "      <td>19.0</td>\n",
       "      <td>0</td>\n",
       "      <td>0</td>\n",
       "      <td>28665</td>\n",
       "      <td>10.5</td>\n",
       "      <td>NaN</td>\n",
       "      <td>S</td>\n",
       "      <td>Gunnislake, England / Butte, MT</td>\n",
       "    </tr>\n",
       "    <tr>\n",
       "      <th>1</th>\n",
       "      <td>1001</td>\n",
       "      <td>2</td>\n",
       "      <td>Beane, Mr. Edward</td>\n",
       "      <td>male</td>\n",
       "      <td>32.0</td>\n",
       "      <td>1</td>\n",
       "      <td>0</td>\n",
       "      <td>2908</td>\n",
       "      <td>26.0</td>\n",
       "      <td>NaN</td>\n",
       "      <td>S</td>\n",
       "      <td>Norwich / New York, NY</td>\n",
       "    </tr>\n",
       "    <tr>\n",
       "      <th>2</th>\n",
       "      <td>1002</td>\n",
       "      <td>3</td>\n",
       "      <td>Storey, Mr. Thomas</td>\n",
       "      <td>male</td>\n",
       "      <td>60.5</td>\n",
       "      <td>0</td>\n",
       "      <td>0</td>\n",
       "      <td>3701</td>\n",
       "      <td>NaN</td>\n",
       "      <td>NaN</td>\n",
       "      <td>S</td>\n",
       "      <td>NaN</td>\n",
       "    </tr>\n",
       "    <tr>\n",
       "      <th>3</th>\n",
       "      <td>1003</td>\n",
       "      <td>2</td>\n",
       "      <td>Herman, Mrs. Samuel (Jane Laver)</td>\n",
       "      <td>female</td>\n",
       "      <td>48.0</td>\n",
       "      <td>1</td>\n",
       "      <td>2</td>\n",
       "      <td>220845</td>\n",
       "      <td>65.0</td>\n",
       "      <td>NaN</td>\n",
       "      <td>S</td>\n",
       "      <td>Somerset / Bernardsville, NJ</td>\n",
       "    </tr>\n",
       "    <tr>\n",
       "      <th>4</th>\n",
       "      <td>1004</td>\n",
       "      <td>1</td>\n",
       "      <td>Brewe, Dr. Arthur Jackson</td>\n",
       "      <td>male</td>\n",
       "      <td>NaN</td>\n",
       "      <td>0</td>\n",
       "      <td>0</td>\n",
       "      <td>112379</td>\n",
       "      <td>39.6</td>\n",
       "      <td>NaN</td>\n",
       "      <td>C</td>\n",
       "      <td>Philadelphia, PA</td>\n",
       "    </tr>\n",
       "  </tbody>\n",
       "</table>\n",
       "</div>"
      ],
      "text/plain": [
       "     ID  pclass                              name     sex   age  sibsp  parch  \\\n",
       "0  1000       2   Pengelly, Mr. Frederick William    male  19.0      0      0   \n",
       "1  1001       2                 Beane, Mr. Edward    male  32.0      1      0   \n",
       "2  1002       3                Storey, Mr. Thomas    male  60.5      0      0   \n",
       "3  1003       2  Herman, Mrs. Samuel (Jane Laver)  female  48.0      1      2   \n",
       "4  1004       1         Brewe, Dr. Arthur Jackson    male   NaN      0      0   \n",
       "\n",
       "   ticket  fare cabin embarked                        home.dest  \n",
       "0   28665  10.5   NaN        S  Gunnislake, England / Butte, MT  \n",
       "1    2908  26.0   NaN        S           Norwich / New York, NY  \n",
       "2    3701   NaN   NaN        S                              NaN  \n",
       "3  220845  65.0   NaN        S     Somerset / Bernardsville, NJ  \n",
       "4  112379  39.6   NaN        C                 Philadelphia, PA  "
      ]
     },
     "execution_count": 79,
     "metadata": {},
     "output_type": "execute_result"
    }
   ],
   "source": [
    "pr = pd.read_csv(\"evaluation.csv\")\n",
    "pr.head()"
   ]
  },
  {
   "cell_type": "markdown",
   "id": "a581ee9b-4d70-4190-883d-970f339162e4",
   "metadata": {},
   "source": [
    "**Making the same manipulations with data set as before**"
   ]
  },
  {
   "cell_type": "code",
   "execution_count": 80,
   "id": "dc8869da-7278-426e-b99d-694403d010d4",
   "metadata": {},
   "outputs": [
    {
     "name": "stdout",
     "output_type": "stream",
     "text": [
      "in ID num of missng values is 0\n",
      "in pclass num of missng values is 0\n",
      "in name num of missng values is 0\n",
      "in sex num of missng values is 0\n",
      "in age num of missng values is 59\n",
      "in sibsp num of missng values is 0\n",
      "in parch num of missng values is 0\n",
      "in ticket num of missng values is 0\n",
      "in fare num of missng values is 1\n",
      "in cabin num of missng values is 239\n",
      "in embarked num of missng values is 2\n",
      "in home.dest num of missng values is 137\n"
     ]
    }
   ],
   "source": [
    "for col in pr:\n",
    "    missing_count = pr[col].isna().sum()\n",
    "    print(\"in %s num of missng values is %d\" % (col, missing_count))"
   ]
  },
  {
   "cell_type": "code",
   "execution_count": 81,
   "id": "19974a77-ae19-4fc9-a5e8-5097c4082f5e",
   "metadata": {},
   "outputs": [
    {
     "data": {
      "text/html": [
       "<div>\n",
       "<style scoped>\n",
       "    .dataframe tbody tr th:only-of-type {\n",
       "        vertical-align: middle;\n",
       "    }\n",
       "\n",
       "    .dataframe tbody tr th {\n",
       "        vertical-align: top;\n",
       "    }\n",
       "\n",
       "    .dataframe thead th {\n",
       "        text-align: right;\n",
       "    }\n",
       "</style>\n",
       "<table border=\"1\" class=\"dataframe\">\n",
       "  <thead>\n",
       "    <tr style=\"text-align: right;\">\n",
       "      <th></th>\n",
       "      <th>pclass</th>\n",
       "      <th>sex</th>\n",
       "      <th>age</th>\n",
       "      <th>sibsp</th>\n",
       "      <th>parch</th>\n",
       "      <th>fare</th>\n",
       "      <th>embarked</th>\n",
       "    </tr>\n",
       "  </thead>\n",
       "  <tbody>\n",
       "    <tr>\n",
       "      <th>0</th>\n",
       "      <td>2</td>\n",
       "      <td>1</td>\n",
       "      <td>19.0</td>\n",
       "      <td>0</td>\n",
       "      <td>0</td>\n",
       "      <td>10.5</td>\n",
       "      <td>2</td>\n",
       "    </tr>\n",
       "    <tr>\n",
       "      <th>1</th>\n",
       "      <td>2</td>\n",
       "      <td>1</td>\n",
       "      <td>32.0</td>\n",
       "      <td>1</td>\n",
       "      <td>0</td>\n",
       "      <td>26.0</td>\n",
       "      <td>2</td>\n",
       "    </tr>\n",
       "    <tr>\n",
       "      <th>2</th>\n",
       "      <td>3</td>\n",
       "      <td>1</td>\n",
       "      <td>60.5</td>\n",
       "      <td>0</td>\n",
       "      <td>0</td>\n",
       "      <td>NaN</td>\n",
       "      <td>2</td>\n",
       "    </tr>\n",
       "    <tr>\n",
       "      <th>3</th>\n",
       "      <td>2</td>\n",
       "      <td>0</td>\n",
       "      <td>48.0</td>\n",
       "      <td>1</td>\n",
       "      <td>2</td>\n",
       "      <td>65.0</td>\n",
       "      <td>2</td>\n",
       "    </tr>\n",
       "    <tr>\n",
       "      <th>4</th>\n",
       "      <td>1</td>\n",
       "      <td>1</td>\n",
       "      <td>NaN</td>\n",
       "      <td>0</td>\n",
       "      <td>0</td>\n",
       "      <td>39.6</td>\n",
       "      <td>0</td>\n",
       "    </tr>\n",
       "  </tbody>\n",
       "</table>\n",
       "</div>"
      ],
      "text/plain": [
       "   pclass  sex   age  sibsp  parch  fare  embarked\n",
       "0       2    1  19.0      0      0  10.5         2\n",
       "1       2    1  32.0      1      0  26.0         2\n",
       "2       3    1  60.5      0      0   NaN         2\n",
       "3       2    0  48.0      1      2  65.0         2\n",
       "4       1    1   NaN      0      0  39.6         0"
      ]
     },
     "metadata": {},
     "output_type": "display_data"
    },
    {
     "data": {
      "text/plain": [
       "pclass        int64\n",
       "sex            int8\n",
       "age         float64\n",
       "sibsp         int64\n",
       "parch         int64\n",
       "fare        float64\n",
       "embarked       int8\n",
       "dtype: object"
      ]
     },
     "metadata": {},
     "output_type": "display_data"
    }
   ],
   "source": [
    "pr = pr.drop([\"ID\", \"name\", \"ticket\", \"cabin\", \"home.dest\"], axis = 1)\n",
    "pr[[\"sex\", \"embarked\"]] = pr[[\"sex\", \"embarked\"]].apply(lambda x: x.astype(\"category\").cat.codes)\n",
    "display(pr.head())\n",
    "display(pr.dtypes)"
   ]
  },
  {
   "cell_type": "code",
   "execution_count": 82,
   "id": "ae8c9cc1-63aa-4118-a975-5c6ac44b0d1b",
   "metadata": {},
   "outputs": [],
   "source": [
    "age_median_pr = pr[\"age\"].mean()\n",
    "pr[\"age\"] = pr[\"age\"].replace(np.nan, age_median_pr)\n",
    "fare_median_pr = pr[\"fare\"].mean()\n",
    "pr[\"fare\"] = pr[\"fare\"].replace(np.nan, fare_median_pr)"
   ]
  },
  {
   "cell_type": "code",
   "execution_count": 83,
   "id": "461d441f-8fa1-4011-9803-bd0ccb2ff26e",
   "metadata": {},
   "outputs": [
    {
     "name": "stdout",
     "output_type": "stream",
     "text": [
      "in pclass num of missng values is 0\n",
      "in sex num of missng values is 0\n",
      "in age num of missng values is 0\n",
      "in sibsp num of missng values is 0\n",
      "in parch num of missng values is 0\n",
      "in fare num of missng values is 0\n",
      "in embarked num of missng values is 0\n"
     ]
    }
   ],
   "source": [
    "for col in pr:\n",
    "    missing_count = pr[col].isna().sum()\n",
    "    print(\"in %s num of missng values is %d\" % (col, missing_count))"
   ]
  },
  {
   "cell_type": "markdown",
   "id": "5595f9d0-4425-49b2-bda0-538c27e203c0",
   "metadata": {},
   "source": [
    "**Making a prediction for the new data**"
   ]
  },
  {
   "cell_type": "code",
   "execution_count": 84,
   "id": "70cd50cb-288b-4fa0-bcbe-e8e82becfbbf",
   "metadata": {},
   "outputs": [],
   "source": [
    "predictions = best_clf.predict(pr)"
   ]
  },
  {
   "cell_type": "markdown",
   "id": "b3f93066-39ea-4a94-8d8b-72fdcb55ca88",
   "metadata": {},
   "source": [
    "**Creating a new DataFrame \"results\" to store the result of the predictions**"
   ]
  },
  {
   "cell_type": "code",
   "execution_count": 85,
   "id": "4fe2bb3c-e0c0-45ac-b03f-854481afb052",
   "metadata": {},
   "outputs": [
    {
     "data": {
      "text/html": [
       "<div>\n",
       "<style scoped>\n",
       "    .dataframe tbody tr th:only-of-type {\n",
       "        vertical-align: middle;\n",
       "    }\n",
       "\n",
       "    .dataframe tbody tr th {\n",
       "        vertical-align: top;\n",
       "    }\n",
       "\n",
       "    .dataframe thead th {\n",
       "        text-align: right;\n",
       "    }\n",
       "</style>\n",
       "<table border=\"1\" class=\"dataframe\">\n",
       "  <thead>\n",
       "    <tr style=\"text-align: right;\">\n",
       "      <th></th>\n",
       "      <th>ID</th>\n",
       "      <th>survived</th>\n",
       "    </tr>\n",
       "  </thead>\n",
       "  <tbody>\n",
       "    <tr>\n",
       "      <th>0</th>\n",
       "      <td>1000</td>\n",
       "      <td>0</td>\n",
       "    </tr>\n",
       "    <tr>\n",
       "      <th>1</th>\n",
       "      <td>1001</td>\n",
       "      <td>0</td>\n",
       "    </tr>\n",
       "    <tr>\n",
       "      <th>2</th>\n",
       "      <td>1002</td>\n",
       "      <td>0</td>\n",
       "    </tr>\n",
       "    <tr>\n",
       "      <th>3</th>\n",
       "      <td>1003</td>\n",
       "      <td>1</td>\n",
       "    </tr>\n",
       "    <tr>\n",
       "      <th>4</th>\n",
       "      <td>1004</td>\n",
       "      <td>0</td>\n",
       "    </tr>\n",
       "  </tbody>\n",
       "</table>\n",
       "</div>"
      ],
      "text/plain": [
       "     ID  survived\n",
       "0  1000         0\n",
       "1  1001         0\n",
       "2  1002         0\n",
       "3  1003         1\n",
       "4  1004         0"
      ]
     },
     "execution_count": 85,
     "metadata": {},
     "output_type": "execute_result"
    }
   ],
   "source": [
    "ids = range(1000, 1000 + len(predictions))\n",
    "results = pd.DataFrame({\"ID\": ids, \"survived\": predictions})\n",
    "results.head()"
   ]
  },
  {
   "cell_type": "markdown",
   "id": "eafae41b-c8f0-4ffd-8e65-58d030f4b48d",
   "metadata": {},
   "source": [
    "**Storing the predictions in the csv file**"
   ]
  },
  {
   "cell_type": "code",
   "execution_count": 86,
   "id": "a15d1a9f-2e31-4074-9464-004d3ebe5026",
   "metadata": {},
   "outputs": [],
   "source": [
    "results.to_csv(\"results.csv\", index = False)"
   ]
  },
  {
   "cell_type": "code",
   "execution_count": 87,
   "id": "e063e020-e8ac-403a-afa4-ef11171f90a6",
   "metadata": {},
   "outputs": [
    {
     "name": "stdout",
     "output_type": "stream",
     "text": [
      "The number of survived: 115\n"
     ]
    }
   ],
   "source": [
    "print(\"The number of survived: %d\" % results[\"survived\"].sum())"
   ]
  },
  {
   "cell_type": "markdown",
   "id": "f9584a53-137b-453e-8039-fa20ce85b6d0",
   "metadata": {},
   "source": [
    "# THE END"
   ]
  }
 ],
 "metadata": {
  "kernelspec": {
   "display_name": "Python 3 (ipykernel)",
   "language": "python",
   "name": "python3"
  },
  "language_info": {
   "codemirror_mode": {
    "name": "ipython",
    "version": 3
   },
   "file_extension": ".py",
   "mimetype": "text/x-python",
   "name": "python",
   "nbconvert_exporter": "python",
   "pygments_lexer": "ipython3",
   "version": "3.12.6"
  }
 },
 "nbformat": 4,
 "nbformat_minor": 5
}
